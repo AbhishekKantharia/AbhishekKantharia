{
 "cells": [
  {
   "cell_type": "markdown",
   "id": "efb8032b",
   "metadata": {
    "id": "jkxRSYjzA1oX",
    "papermill": {
     "duration": 0.015588,
     "end_time": "2025-03-30T23:04:56.791006",
     "exception": false,
     "start_time": "2025-03-30T23:04:56.775418",
     "status": "completed"
    },
    "tags": []
   },
   "source": [
    "##### Copyright 2025 Google LLC."
   ]
  },
  {
   "cell_type": "code",
   "execution_count": 1,
   "id": "237cd13f",
   "metadata": {
    "cellView": "form",
    "execution": {
     "iopub.execute_input": "2025-03-30T23:04:56.821124Z",
     "iopub.status.busy": "2025-03-30T23:04:56.820784Z",
     "iopub.status.idle": "2025-03-30T23:04:56.825958Z",
     "shell.execute_reply": "2025-03-30T23:04:56.825097Z"
    },
    "id": "5u5OZ2ShA3BA",
    "jupyter": {
     "source_hidden": true
    },
    "papermill": {
     "duration": 0.02182,
     "end_time": "2025-03-30T23:04:56.827430",
     "exception": false,
     "start_time": "2025-03-30T23:04:56.805610",
     "status": "completed"
    },
    "tags": []
   },
   "outputs": [],
   "source": [
    "# @title Licensed under the Apache License, Version 2.0 (the \"License\");\n",
    "# you may not use this file except in compliance with the License.\n",
    "# You may obtain a copy of the License at\n",
    "#\n",
    "# https://www.apache.org/licenses/LICENSE-2.0\n",
    "#\n",
    "# Unless required by applicable law or agreed to in writing, software\n",
    "# distributed under the License is distributed on an \"AS IS\" BASIS,\n",
    "# WITHOUT WARRANTIES OR CONDITIONS OF ANY KIND, either express or implied.\n",
    "# See the License for the specific language governing permissions and\n",
    "# limitations under the License."
   ]
  },
  {
   "cell_type": "markdown",
   "id": "5da9855c",
   "metadata": {
    "id": "csNPnkuCobmG",
    "papermill": {
     "duration": 0.014562,
     "end_time": "2025-03-30T23:04:56.856645",
     "exception": false,
     "start_time": "2025-03-30T23:04:56.842083",
     "status": "completed"
    },
    "tags": []
   },
   "source": [
    "# Day 1 - Prompting\n",
    "\n",
    "Welcome to the Kaggle 5-day Generative AI course!\n",
    "\n",
    "This notebook will show you how to get started with the Gemini API and walk you through some of the example prompts and techniques that you can also read about in the Prompting whitepaper. You don't need to read the whitepaper to use this notebook, but the papers will give you some theoretical context and background to complement this interactive notebook.\n",
    "\n",
    "\n",
    "## Before you begin\n",
    "\n",
    "In this notebook, you'll start exploring prompting using the Python SDK and AI Studio. For some inspiration, you might enjoy exploring some apps that have been built using the Gemini family of models. Here are a few that we like, and we think you will too.\n",
    "\n",
    "* [TextFX](https://textfx.withgoogle.com/) is a suite of AI-powered tools for rappers, made in collaboration with Lupe Fiasco,\n",
    "* [SQL Talk](https://sql-talk-r5gdynozbq-uc.a.run.app/) shows how you can talk directly to a database using the Gemini API,\n",
    "* [NotebookLM](https://notebooklm.google/) uses Gemini models to build your own personal AI research assistant.\n",
    "\n",
    "\n",
    "## For help\n",
    "\n",
    "**Common issues are covered in the [FAQ and troubleshooting guide](https://www.kaggle.com/code/markishere/day-0-troubleshooting-and-faqs).**\n",
    "\n",
    "## New for Gemini 2.0!\n",
    "\n",
    "This course material was first launched in November 2024. The AI and LLM space is moving incredibly fast, so we have made some updates to use the latest models and capabilities.\n",
    "\n",
    "* These codelabs have been updated to use the Gemini 2.0 family of models.\n",
    "* The Python SDK has been updated from `google-generativeai` to the new, unified [`google-genai`](https://pypi.org/project/google-genai) SDK.\n",
    "  * This new SDK works with both the developer Gemini API as well as Google Cloud Vertex AI, and switching is [as simple as changing some fields](https://pypi.org/project/google-genai/#:~:text=.Client%28%29-,API%20Selection,-By%20default%2C%20the).\n",
    "* New model capabilities have been added to the relevant codelabs, such as \"thinking mode\" in this lab.\n",
    "* Day 1 includes a new [Evaluation codelab](https://www.kaggle.com/code/markishere/day-1-evaluation-and-structured-output)."
   ]
  },
  {
   "attachments": {
    "d8299597-f771-4195-ac94-1d6f658ef2bd.png": {
     "image/png": "[encoded data removed]"
    },
    "ed25e346-2e15-4ab0-bc22-503eb1845e66.png": {
     "image/png": "[encoded data removed]"
    }
   },
   "cell_type": "markdown",
   "id": "c376eb5c",
   "metadata": {
    "id": "f00ea7c99e44",
    "papermill": {
     "duration": 0.013862,
     "end_time": "2025-03-30T23:04:56.884675",
     "exception": false,
     "start_time": "2025-03-30T23:04:56.870813",
     "status": "completed"
    },
    "tags": []
   },
   "source": [
    "## Get started with Kaggle notebooks\n",
    "\n",
    "If this is your first time using a Kaggle notebook, welcome! You can read about how to use Kaggle notebooks [in the docs](https://www.kaggle.com/docs/notebooks).\n",
    "\n",
    "First, you will need to phone verify your account at kaggle.com/settings.\n",
    "\n",
    "![](https://storage.googleapis.com/kaggle-media/Images/5dgai_0.png)"
   ]
  },
  {
   "cell_type": "markdown",
   "id": "4396450e",
   "metadata": {
    "papermill": {
     "duration": 0.013794,
     "end_time": "2025-03-30T23:04:56.913042",
     "exception": false,
     "start_time": "2025-03-30T23:04:56.899248",
     "status": "completed"
    },
    "tags": []
   },
   "source": [
    "To run this notebook, as well as the others in this course, you will need to make a copy, or fork, the notebook. Look for the `Copy and Edit` button in the top-right, and **click it** to make an editable, private copy of the notebook. It should look like this one:\n",
    "\n",
    "![Copy and Edit button](https://storage.googleapis.com/kaggle-media/Images/5gdai_sc_1.png)\n",
    "\n",
    "Your copy will now have a ▶️ **Run** button next to each code cell that you can press to execute that cell. These notebooks are expected to be run in order from top-to-bottom, but you are encouraged to add new cells, run your own code and explore. If you get stuck, you can try the `Factory reset` option in the `Run` menu, or head back to the original notebook and make a fresh copy.\n",
    "\n",
    "![Run cell button](https://storage.googleapis.com/kaggle-media/Images/5gdai_sc_2.png)\n",
    "\n",
    "### Problems?\n",
    "\n",
    "If you have any problems, head over to the [Kaggle Discord](https://discord.com/invite/kaggle), find the [`#5dgai-q-and-a` channel](https://discord.com/channels/1101210829807956100/1303438695143178251) and ask for help."
   ]
  },
  {
   "cell_type": "markdown",
   "id": "fcf42204",
   "metadata": {
    "id": "ExkOXcPxtTb5",
    "papermill": {
     "duration": 0.013746,
     "end_time": "2025-03-30T23:04:56.940990",
     "exception": false,
     "start_time": "2025-03-30T23:04:56.927244",
     "status": "completed"
    },
    "tags": []
   },
   "source": [
    "## Get started with the Gemini API\n",
    "\n",
    "All of the exercises in this notebook will use the [Gemini API](https://ai.google.dev/gemini-api/) by way of the [Python SDK](https://pypi.org/project/google-genai/). Each of these prompts can be accessed directly in [Google AI Studio](https://aistudio.google.com/) too, so if you would rather use a web interface and skip the code for this activity, look for the <img src=\"https://ai.google.dev/site-assets/images/marketing/home/icon-ais.png\" style=\"height: 24px\" height=24/> AI Studio link on each prompt."
   ]
  },
  {
   "cell_type": "markdown",
   "id": "1e78e6ec",
   "metadata": {
    "papermill": {
     "duration": 0.01363,
     "end_time": "2025-03-30T23:04:56.968691",
     "exception": false,
     "start_time": "2025-03-30T23:04:56.955061",
     "status": "completed"
    },
    "tags": []
   },
   "source": [
    "Next, you will need to add your API key to your Kaggle Notebook as a Kaggle User Secret.\n",
    "\n",
    "![](https://storage.googleapis.com/kaggle-media/Images/5dgai_1.png)\n",
    "![](https://storage.googleapis.com/kaggle-media/Images/5dgai_2.png)\n",
    "![](https://storage.googleapis.com/kaggle-media/Images/5dgai_3.png)\n",
    "![](https://storage.googleapis.com/kaggle-media/Images/5dgai_4.png)"
   ]
  },
  {
   "cell_type": "code",
   "execution_count": 2,
   "id": "d601159d",
   "metadata": {
    "execution": {
     "iopub.execute_input": "2025-03-30T23:04:56.998294Z",
     "iopub.status.busy": "2025-03-30T23:04:56.997907Z",
     "iopub.status.idle": "2025-03-30T23:04:57.189623Z",
     "shell.execute_reply": "2025-03-30T23:04:57.188728Z"
    },
    "papermill": {
     "duration": 0.208707,
     "end_time": "2025-03-30T23:04:57.191654",
     "exception": false,
     "start_time": "2025-03-30T23:04:56.982947",
     "status": "completed"
    },
    "tags": []
   },
   "outputs": [],
   "source": [
    "from kaggle_secrets import UserSecretsClient\n",
    "user_secrets = UserSecretsClient()\n",
    "secret_value_0 = user_secrets.get_secret(\"GOOGLE_API_KEY\")"
   ]
  },
  {
   "cell_type": "markdown",
   "id": "b76dbdf5",
   "metadata": {
    "id": "UAjUV3BsvFXQ",
    "papermill": {
     "duration": 0.014249,
     "end_time": "2025-03-30T23:04:57.221192",
     "exception": false,
     "start_time": "2025-03-30T23:04:57.206943",
     "status": "completed"
    },
    "tags": []
   },
   "source": [
    "### Install the SDK"
   ]
  },
  {
   "cell_type": "code",
   "execution_count": 3,
   "id": "827b95f3",
   "metadata": {
    "execution": {
     "iopub.execute_input": "2025-03-30T23:04:57.251045Z",
     "iopub.status.busy": "2025-03-30T23:04:57.250694Z",
     "iopub.status.idle": "2025-03-30T23:05:06.264379Z",
     "shell.execute_reply": "2025-03-30T23:05:06.263223Z"
    },
    "id": "NzwzJFU9LqkJ",
    "papermill": {
     "duration": 9.030794,
     "end_time": "2025-03-30T23:05:06.266344",
     "exception": false,
     "start_time": "2025-03-30T23:04:57.235550",
     "status": "completed"
    },
    "tags": []
   },
   "outputs": [
    {
     "name": "stdout",
     "output_type": "stream",
     "text": [
      "\u001b[2K   \u001b[90m━━━━━━━━━━━━━━━━━━━━━━━━━━━━━━━━━━━━━━━━\u001b[0m \u001b[32m144.7/144.7 kB\u001b[0m \u001b[31m5.7 MB/s\u001b[0m eta \u001b[36m0:00:00\u001b[0m\r\n",
      "\u001b[2K   \u001b[90m━━━━━━━━━━━━━━━━━━━━━━━━━━━━━━━━━━━━━━━━\u001b[0m \u001b[32m100.9/100.9 kB\u001b[0m \u001b[31m4.9 MB/s\u001b[0m eta \u001b[36m0:00:00\u001b[0m\r\n",
      "\u001b[?25h"
     ]
    }
   ],
   "source": [
    "!pip uninstall -qy jupyterlab  # Remove unused packages from Kaggle's base image that conflict\n",
    "!pip install -U -q \"google-genai==1.7.0\""
   ]
  },
  {
   "cell_type": "markdown",
   "id": "4bf01d4f",
   "metadata": {
    "papermill": {
     "duration": 0.01523,
     "end_time": "2025-03-30T23:05:06.296361",
     "exception": false,
     "start_time": "2025-03-30T23:05:06.281131",
     "status": "completed"
    },
    "tags": []
   },
   "source": [
    "Import the SDK and some helpers for rendering the output."
   ]
  },
  {
   "cell_type": "code",
   "execution_count": 4,
   "id": "572384ae",
   "metadata": {
    "execution": {
     "iopub.execute_input": "2025-03-30T23:05:06.327896Z",
     "iopub.status.busy": "2025-03-30T23:05:06.327495Z",
     "iopub.status.idle": "2025-03-30T23:05:06.477626Z",
     "shell.execute_reply": "2025-03-30T23:05:06.476457Z"
    },
    "papermill": {
     "duration": 0.168371,
     "end_time": "2025-03-30T23:05:06.479500",
     "exception": false,
     "start_time": "2025-03-30T23:05:06.311129",
     "status": "completed"
    },
    "tags": []
   },
   "outputs": [],
   "source": [
    "from kaggle_secrets import UserSecretsClient\n",
    "user_secrets = UserSecretsClient()\n",
    "user_credential = user_secrets.get_gcloud_credential()\n",
    "user_secrets.set_tensorflow_credential(user_credential)"
   ]
  },
  {
   "cell_type": "code",
   "execution_count": 5,
   "id": "7189adcd",
   "metadata": {
    "execution": {
     "iopub.execute_input": "2025-03-30T23:05:06.510551Z",
     "iopub.status.busy": "2025-03-30T23:05:06.510188Z",
     "iopub.status.idle": "2025-03-30T23:05:07.751793Z",
     "shell.execute_reply": "2025-03-30T23:05:07.750900Z"
    },
    "id": "5DwxYIRavMST",
    "papermill": {
     "duration": 1.259155,
     "end_time": "2025-03-30T23:05:07.753700",
     "exception": false,
     "start_time": "2025-03-30T23:05:06.494545",
     "status": "completed"
    },
    "tags": []
   },
   "outputs": [],
   "source": [
    "from google import genai\n",
    "from google.genai import types\n",
    "\n",
    "from IPython.display import HTML, Markdown, display"
   ]
  },
  {
   "cell_type": "markdown",
   "id": "95d355a3",
   "metadata": {
    "papermill": {
     "duration": 0.014048,
     "end_time": "2025-03-30T23:05:07.782414",
     "exception": false,
     "start_time": "2025-03-30T23:05:07.768366",
     "status": "completed"
    },
    "tags": []
   },
   "source": [
    "Set up a retry helper. This allows you to \"Run all\" without worrying about per-minute quota."
   ]
  },
  {
   "cell_type": "code",
   "execution_count": 6,
   "id": "05b2a516",
   "metadata": {
    "execution": {
     "iopub.execute_input": "2025-03-30T23:05:07.812601Z",
     "iopub.status.busy": "2025-03-30T23:05:07.812041Z",
     "iopub.status.idle": "2025-03-30T23:05:07.829278Z",
     "shell.execute_reply": "2025-03-30T23:05:07.828116Z"
    },
    "papermill": {
     "duration": 0.034411,
     "end_time": "2025-03-30T23:05:07.831183",
     "exception": false,
     "start_time": "2025-03-30T23:05:07.796772",
     "status": "completed"
    },
    "tags": []
   },
   "outputs": [
    {
     "name": "stdout",
     "output_type": "stream",
     "text": [
      "API request successful!\n",
      "Final response: Success\n"
     ]
    }
   ],
   "source": [
    "import time\n",
    "import random\n",
    "from tenacity import retry, stop_after_attempt, wait_exponential, retry_if_exception_type\n",
    "\n",
    "# Custom exception for quota limit errors\n",
    "class QuotaLimitExceeded(Exception):\n",
    "    pass\n",
    "\n",
    "# Retry decorator with exponential backoff\n",
    "@retry(\n",
    "    stop=stop_after_attempt(5),  # Maximum 5 retry attempts\n",
    "    wait=wait_exponential(multiplier=1, min=2, max=30),  # Exponential backoff (2s, 4s, 8s...)\n",
    "    retry=retry_if_exception_type(QuotaLimitExceeded),  # Retry only on quota errors\n",
    ")\n",
    "def api_request():\n",
    "    \"\"\"Simulates an API request that might fail due to quota limits.\"\"\"\n",
    "    if random.random() < 0.5:  # Simulate a 50% chance of hitting quota limit\n",
    "        print(\"Quota limit exceeded, retrying...\")\n",
    "        raise QuotaLimitExceeded(\"API quota limit reached. Retrying...\")\n",
    "    print(\"API request successful!\")\n",
    "    return \"Success\"\n",
    "\n",
    "if __name__ == \"__main__\":\n",
    "    try:\n",
    "        response = api_request()\n",
    "        print(\"Final response:\", response)\n",
    "    except QuotaLimitExceeded:\n",
    "        print(\"Exceeded max retries. Please wait before retrying manually.\")"
   ]
  },
  {
   "cell_type": "code",
   "execution_count": 7,
   "id": "823d420b",
   "metadata": {
    "execution": {
     "iopub.execute_input": "2025-03-30T23:05:07.862201Z",
     "iopub.status.busy": "2025-03-30T23:05:07.861813Z",
     "iopub.status.idle": "2025-03-30T23:05:08.089738Z",
     "shell.execute_reply": "2025-03-30T23:05:08.088564Z"
    },
    "papermill": {
     "duration": 0.245959,
     "end_time": "2025-03-30T23:05:08.091807",
     "exception": false,
     "start_time": "2025-03-30T23:05:07.845848",
     "status": "completed"
    },
    "tags": []
   },
   "outputs": [],
   "source": [
    "from google.api_core import retry\n",
    "\n",
    "\n",
    "is_retriable = lambda e: (isinstance(e, genai.errors.APIError) and e.code in {429, 503})\n",
    "\n",
    "genai.models.Models.generate_content = retry.Retry(\n",
    "    predicate=is_retriable)(genai.models.Models.generate_content)"
   ]
  },
  {
   "cell_type": "markdown",
   "id": "68dd1b87",
   "metadata": {
    "id": "DNEt2BCOvOJ1",
    "papermill": {
     "duration": 0.014351,
     "end_time": "2025-03-30T23:05:08.121060",
     "exception": false,
     "start_time": "2025-03-30T23:05:08.106709",
     "status": "completed"
    },
    "tags": []
   },
   "source": [
    "### Set up your API key\n",
    "\n",
    "To run the following cell, your API key must be stored it in a [Kaggle secret](https://www.kaggle.com/discussions/product-feedback/114053) named `GOOGLE_API_KEY`.\n",
    "\n",
    "If you don't already have an API key, you can grab one from [AI Studio](https://aistudio.google.com/app/apikey). You can find [detailed instructions in the docs](https://ai.google.dev/gemini-api/docs/api-key).\n",
    "\n",
    "To make the key available through Kaggle secrets, choose `Secrets` from the `Add-ons` menu and follow the instructions to add your key or enable it for this notebook."
   ]
  },
  {
   "cell_type": "code",
   "execution_count": 8,
   "id": "5d67a4d8",
   "metadata": {
    "execution": {
     "iopub.execute_input": "2025-03-30T23:05:08.152066Z",
     "iopub.status.busy": "2025-03-30T23:05:08.151551Z",
     "iopub.status.idle": "2025-03-30T23:05:08.285936Z",
     "shell.execute_reply": "2025-03-30T23:05:08.284841Z"
    },
    "id": "SHl0bkPCvayd",
    "papermill": {
     "duration": 0.152027,
     "end_time": "2025-03-30T23:05:08.287866",
     "exception": false,
     "start_time": "2025-03-30T23:05:08.135839",
     "status": "completed"
    },
    "tags": []
   },
   "outputs": [],
   "source": [
    "from kaggle_secrets import UserSecretsClient\n",
    "\n",
    "GOOGLE_API_KEY = UserSecretsClient().get_secret(\"GOOGLE_API_KEY\")"
   ]
  },
  {
   "attachments": {
    "d2be9aab-2527-48af-b6cf-1f06cdd7c3a7.png": {
     "image/png": "[encoded data removed]"
    }
   },
   "cell_type": "markdown",
   "id": "929d1fb7",
   "metadata": {
    "id": "4e720472fd86",
    "papermill": {
     "duration": 0.014333,
     "end_time": "2025-03-30T23:05:08.317030",
     "exception": false,
     "start_time": "2025-03-30T23:05:08.302697",
     "status": "completed"
    },
    "tags": []
   },
   "source": [
    "If you received an error response along the lines of `No user secrets exist for kernel id ...`, then you need to add your API key via `Add-ons`, `Secrets` **and** enable it.\n",
    "\n",
    "![Screenshot of the checkbox to enable GOOGLE_API_KEY secret](https://storage.googleapis.com/kaggle-media/Images/5gdai_sc_3.png)"
   ]
  },
  {
   "cell_type": "markdown",
   "id": "d779deaa",
   "metadata": {
    "id": "H_YXCYIKvyZJ",
    "papermill": {
     "duration": 0.014205,
     "end_time": "2025-03-30T23:05:08.345955",
     "exception": false,
     "start_time": "2025-03-30T23:05:08.331750",
     "status": "completed"
    },
    "tags": []
   },
   "source": [
    "### Run your first prompt\n",
    "\n",
    "In this step, you will test that your API key is set up correctly by making a request.\n",
    "\n",
    "The Python SDK uses a [`Client` object](https://googleapis.github.io/python-genai/genai.html#genai.client.Client) to make requests to the API. The client lets you control which back-end to use (between the Gemini API and Vertex AI) and handles authentication (the API key).\n",
    "\n",
    "The `gemini-2.0-flash` model has been selected here.\n",
    "\n",
    "**Note**: If you see a `TransportError` on this step, you may need to **🔁 Factory reset** the notebook one time."
   ]
  },
  {
   "cell_type": "code",
   "execution_count": 9,
   "id": "fba2f985",
   "metadata": {
    "execution": {
     "iopub.execute_input": "2025-03-30T23:05:08.376554Z",
     "iopub.status.busy": "2025-03-30T23:05:08.376201Z",
     "iopub.status.idle": "2025-03-30T23:05:11.813848Z",
     "shell.execute_reply": "2025-03-30T23:05:11.812536Z"
    },
    "id": "BV1o0PmcvyJF",
    "papermill": {
     "duration": 3.45518,
     "end_time": "2025-03-30T23:05:11.815722",
     "exception": false,
     "start_time": "2025-03-30T23:05:08.360542",
     "status": "completed"
    },
    "tags": []
   },
   "outputs": [
    {
     "name": "stdout",
     "output_type": "stream",
     "text": [
      "Okay, imagine you have a really, really, REALLY smart robot!  That robot is using AI.\n",
      "\n",
      "AI stands for **Artificial Intelligence**, which is a fancy way of saying that we're teaching computers to think and learn like people do.\n",
      "\n",
      "**Here's how it works:**\n",
      "\n",
      "*   **Learning:**  We give the computer lots of information, like pictures of cats.  After seeing lots and lots of cat pictures, the computer learns to recognize a cat all by itself! It's like learning your ABCs - after you learn them, you can read words!\n",
      "\n",
      "*   **Thinking:**  Once the computer learns, it can start to make decisions.  If you show it a new picture, it can \"think\" and tell you if it sees a cat or not.\n",
      "\n",
      "*   **Acting:**  Sometimes, AI can even do things!  Like in a video game, the computer controls the bad guys, and they can try to trick you and win! That's because the computer is \"thinking\" and \"acting\".\n",
      "\n",
      "**Think of it like this:**\n",
      "\n",
      "Imagine you're teaching your dog a trick. You give your dog treats when it does the right thing. The dog learns what to do to get the treat! AI is similar - we give the computer information and \"reward\" it when it gets things right, so it learns.\n",
      "\n",
      "**Where do we see AI?**\n",
      "\n",
      "*   **Your Tablet or Phone:**  When you talk to Siri or Google Assistant, that's AI helping them understand you.\n",
      "*   **Video Games:**  The characters you play against are often controlled by AI.\n",
      "*   **Music Apps:**  When an app suggests songs you might like, that's AI at work!\n",
      "*   **Self-Driving Cars:** Someday, cars might drive themselves using AI!\n",
      "\n",
      "**Is AI a real person?**\n",
      "\n",
      "No way! AI is just a computer program. It's really smart, but it doesn't have feelings or opinions like people do. It's just following the instructions we give it.\n",
      "\n",
      "**So, AI is like a super-smart computer that can learn, think, and act, helping us do all sorts of cool things!**\n",
      "\n"
     ]
    }
   ],
   "source": [
    "client = genai.Client(api_key=GOOGLE_API_KEY)\n",
    "\n",
    "response = client.models.generate_content(\n",
    "    model=\"gemini-2.0-flash\",\n",
    "    contents=\"Explain AI to me like I'm a kid.\")\n",
    "\n",
    "print(response.text)"
   ]
  },
  {
   "cell_type": "markdown",
   "id": "cf6fbd58",
   "metadata": {
    "id": "f60ed9d8ae41",
    "papermill": {
     "duration": 0.015062,
     "end_time": "2025-03-30T23:05:11.845824",
     "exception": false,
     "start_time": "2025-03-30T23:05:11.830762",
     "status": "completed"
    },
    "tags": []
   },
   "source": [
    "The response often comes back in markdown format, which you can render directly in this notebook."
   ]
  },
  {
   "cell_type": "code",
   "execution_count": 10,
   "id": "69b3856b",
   "metadata": {
    "execution": {
     "iopub.execute_input": "2025-03-30T23:05:11.876834Z",
     "iopub.status.busy": "2025-03-30T23:05:11.876481Z",
     "iopub.status.idle": "2025-03-30T23:05:11.883473Z",
     "shell.execute_reply": "2025-03-30T23:05:11.882503Z"
    },
    "papermill": {
     "duration": 0.023992,
     "end_time": "2025-03-30T23:05:11.884980",
     "exception": false,
     "start_time": "2025-03-30T23:05:11.860988",
     "status": "completed"
    },
    "tags": []
   },
   "outputs": [
    {
     "data": {
      "text/markdown": [
       "Okay, imagine you have a really, really, REALLY smart robot!  That robot is using AI.\n",
       "\n",
       "AI stands for **Artificial Intelligence**, which is a fancy way of saying that we're teaching computers to think and learn like people do.\n",
       "\n",
       "**Here's how it works:**\n",
       "\n",
       "*   **Learning:**  We give the computer lots of information, like pictures of cats.  After seeing lots and lots of cat pictures, the computer learns to recognize a cat all by itself! It's like learning your ABCs - after you learn them, you can read words!\n",
       "\n",
       "*   **Thinking:**  Once the computer learns, it can start to make decisions.  If you show it a new picture, it can \"think\" and tell you if it sees a cat or not.\n",
       "\n",
       "*   **Acting:**  Sometimes, AI can even do things!  Like in a video game, the computer controls the bad guys, and they can try to trick you and win! That's because the computer is \"thinking\" and \"acting\".\n",
       "\n",
       "**Think of it like this:**\n",
       "\n",
       "Imagine you're teaching your dog a trick. You give your dog treats when it does the right thing. The dog learns what to do to get the treat! AI is similar - we give the computer information and \"reward\" it when it gets things right, so it learns.\n",
       "\n",
       "**Where do we see AI?**\n",
       "\n",
       "*   **Your Tablet or Phone:**  When you talk to Siri or Google Assistant, that's AI helping them understand you.\n",
       "*   **Video Games:**  The characters you play against are often controlled by AI.\n",
       "*   **Music Apps:**  When an app suggests songs you might like, that's AI at work!\n",
       "*   **Self-Driving Cars:** Someday, cars might drive themselves using AI!\n",
       "\n",
       "**Is AI a real person?**\n",
       "\n",
       "No way! AI is just a computer program. It's really smart, but it doesn't have feelings or opinions like people do. It's just following the instructions we give it.\n",
       "\n",
       "**So, AI is like a super-smart computer that can learn, think, and act, helping us do all sorts of cool things!**\n"
      ],
      "text/plain": [
       "<IPython.core.display.Markdown object>"
      ]
     },
     "execution_count": 10,
     "metadata": {},
     "output_type": "execute_result"
    }
   ],
   "source": [
    "Markdown(response.text)"
   ]
  },
  {
   "cell_type": "markdown",
   "id": "3cca62cb",
   "metadata": {
    "id": "byx0pT9ZMW2Q",
    "papermill": {
     "duration": 0.014515,
     "end_time": "2025-03-30T23:05:11.914406",
     "exception": false,
     "start_time": "2025-03-30T23:05:11.899891",
     "status": "completed"
    },
    "tags": []
   },
   "source": [
    "### Start a chat\n",
    "\n",
    "The previous example uses a single-turn, text-in/text-out structure, but you can also set up a multi-turn chat structure too."
   ]
  },
  {
   "cell_type": "code",
   "execution_count": 11,
   "id": "925b1208",
   "metadata": {
    "execution": {
     "iopub.execute_input": "2025-03-30T23:05:11.945276Z",
     "iopub.status.busy": "2025-03-30T23:05:11.944865Z",
     "iopub.status.idle": "2025-03-30T23:05:12.438486Z",
     "shell.execute_reply": "2025-03-30T23:05:12.437150Z"
    },
    "id": "lV_S5ZL5MidD",
    "papermill": {
     "duration": 0.51129,
     "end_time": "2025-03-30T23:05:12.440282",
     "exception": false,
     "start_time": "2025-03-30T23:05:11.928992",
     "status": "completed"
    },
    "tags": []
   },
   "outputs": [
    {
     "name": "stdout",
     "output_type": "stream",
     "text": [
      "Hello Abhishek Kantharia! It's nice to meet you. How can I help you today?\n",
      "\n"
     ]
    }
   ],
   "source": [
    "chat = client.chats.create(model='gemini-2.0-flash', history=[])\n",
    "response = chat.send_message('Hello! My name is Abhishek Kantharia.')\n",
    "print(response.text)"
   ]
  },
  {
   "cell_type": "code",
   "execution_count": 12,
   "id": "97721f0d",
   "metadata": {
    "execution": {
     "iopub.execute_input": "2025-03-30T23:05:12.472114Z",
     "iopub.status.busy": "2025-03-30T23:05:12.471750Z",
     "iopub.status.idle": "2025-03-30T23:05:13.572186Z",
     "shell.execute_reply": "2025-03-30T23:05:13.570768Z"
    },
    "id": "7b0372c3c64a",
    "papermill": {
     "duration": 1.118508,
     "end_time": "2025-03-30T23:05:13.574067",
     "exception": false,
     "start_time": "2025-03-30T23:05:12.455559",
     "status": "completed"
    },
    "tags": []
   },
   "outputs": [
    {
     "name": "stdout",
     "output_type": "stream",
     "text": [
      "Okay, here's a fascinating dinosaur fact:\n",
      "\n",
      "**Did you know that some dinosaurs had feathers?**\n",
      "\n",
      "While we often picture dinosaurs as scaly reptiles, mounting fossil evidence shows that many, especially theropods (the group that includes T. Rex and Velociraptor), possessed feathers. These feathers weren't necessarily for flight, at least not initially. Scientists believe they served various purposes like insulation, display, or even camouflage.\n",
      "\n",
      "The discovery of feathered dinosaurs has dramatically changed our understanding of these ancient creatures and also strengthens the evolutionary link between dinosaurs and modern birds!\n",
      "\n"
     ]
    }
   ],
   "source": [
    "response = chat.send_message('Can you tell me something interesting about dinosaurs?')\n",
    "print(response.text)"
   ]
  },
  {
   "cell_type": "markdown",
   "id": "9820c3c6",
   "metadata": {
    "papermill": {
     "duration": 0.014766,
     "end_time": "2025-03-30T23:05:13.604473",
     "exception": false,
     "start_time": "2025-03-30T23:05:13.589707",
     "status": "completed"
    },
    "tags": []
   },
   "source": [
    "While you have the `chat` object alive, the conversation state\n",
    "persists. Confirm that by asking if it knows the user's name."
   ]
  },
  {
   "cell_type": "code",
   "execution_count": 13,
   "id": "209914a7",
   "metadata": {
    "execution": {
     "iopub.execute_input": "2025-03-30T23:05:13.637111Z",
     "iopub.status.busy": "2025-03-30T23:05:13.636728Z",
     "iopub.status.idle": "2025-03-30T23:05:13.643080Z",
     "shell.execute_reply": "2025-03-30T23:05:13.642013Z"
    },
    "papermill": {
     "duration": 0.024906,
     "end_time": "2025-03-30T23:05:13.644878",
     "exception": false,
     "start_time": "2025-03-30T23:05:13.619972",
     "status": "completed"
    },
    "tags": []
   },
   "outputs": [
    {
     "data": {
      "text/markdown": [
       "Okay, here's a fascinating dinosaur fact:\n",
       "\n",
       "**Did you know that some dinosaurs had feathers?**\n",
       "\n",
       "While we often picture dinosaurs as scaly reptiles, mounting fossil evidence shows that many, especially theropods (the group that includes T. Rex and Velociraptor), possessed feathers. These feathers weren't necessarily for flight, at least not initially. Scientists believe they served various purposes like insulation, display, or even camouflage.\n",
       "\n",
       "The discovery of feathered dinosaurs has dramatically changed our understanding of these ancient creatures and also strengthens the evolutionary link between dinosaurs and modern birds!\n"
      ],
      "text/plain": [
       "<IPython.core.display.Markdown object>"
      ]
     },
     "execution_count": 13,
     "metadata": {},
     "output_type": "execute_result"
    }
   ],
   "source": [
    "Markdown(response.text)"
   ]
  },
  {
   "cell_type": "code",
   "execution_count": 14,
   "id": "564eacc2",
   "metadata": {
    "execution": {
     "iopub.execute_input": "2025-03-30T23:05:13.679011Z",
     "iopub.status.busy": "2025-03-30T23:05:13.678629Z",
     "iopub.status.idle": "2025-03-30T23:05:14.107499Z",
     "shell.execute_reply": "2025-03-30T23:05:14.106179Z"
    },
    "id": "d3f9591392a7",
    "papermill": {
     "duration": 0.447582,
     "end_time": "2025-03-30T23:05:14.109387",
     "exception": false,
     "start_time": "2025-03-30T23:05:13.661805",
     "status": "completed"
    },
    "tags": []
   },
   "outputs": [
    {
     "name": "stdout",
     "output_type": "stream",
     "text": [
      "Yes, your name is Abhishek Kantharia.\n",
      "\n"
     ]
    }
   ],
   "source": [
    "response = chat.send_message('Do you remember what my name is?')\n",
    "print(response.text)"
   ]
  },
  {
   "cell_type": "code",
   "execution_count": 15,
   "id": "7c5c1785",
   "metadata": {
    "execution": {
     "iopub.execute_input": "2025-03-30T23:05:14.141273Z",
     "iopub.status.busy": "2025-03-30T23:05:14.140838Z",
     "iopub.status.idle": "2025-03-30T23:05:14.147068Z",
     "shell.execute_reply": "2025-03-30T23:05:14.145923Z"
    },
    "papermill": {
     "duration": 0.024128,
     "end_time": "2025-03-30T23:05:14.148787",
     "exception": false,
     "start_time": "2025-03-30T23:05:14.124659",
     "status": "completed"
    },
    "tags": []
   },
   "outputs": [
    {
     "data": {
      "text/markdown": [
       "Yes, your name is Abhishek Kantharia.\n"
      ],
      "text/plain": [
       "<IPython.core.display.Markdown object>"
      ]
     },
     "execution_count": 15,
     "metadata": {},
     "output_type": "execute_result"
    }
   ],
   "source": [
    "Markdown(response.text)"
   ]
  },
  {
   "cell_type": "markdown",
   "id": "20b6d753",
   "metadata": {
    "id": "2KAjpr1200sW",
    "papermill": {
     "duration": 0.015384,
     "end_time": "2025-03-30T23:05:14.180683",
     "exception": false,
     "start_time": "2025-03-30T23:05:14.165299",
     "status": "completed"
    },
    "tags": []
   },
   "source": [
    "### Choose a model\n",
    "\n",
    "The Gemini API provides access to a number of models from the Gemini model family. Read about the available models and their capabilities on the [model overview page](https://ai.google.dev/gemini-api/docs/models/gemini).\n",
    "\n",
    "In this step you'll use the API to list all of the available models."
   ]
  },
  {
   "cell_type": "code",
   "execution_count": 16,
   "id": "b77a9d1b",
   "metadata": {
    "execution": {
     "iopub.execute_input": "2025-03-30T23:05:14.214198Z",
     "iopub.status.busy": "2025-03-30T23:05:14.213749Z",
     "iopub.status.idle": "2025-03-30T23:05:14.367200Z",
     "shell.execute_reply": "2025-03-30T23:05:14.365964Z"
    },
    "id": "uUUZa2uq2jDm",
    "papermill": {
     "duration": 0.172082,
     "end_time": "2025-03-30T23:05:14.369018",
     "exception": false,
     "start_time": "2025-03-30T23:05:14.196936",
     "status": "completed"
    },
    "tags": []
   },
   "outputs": [
    {
     "name": "stdout",
     "output_type": "stream",
     "text": [
      "models/chat-bison-001\n",
      "models/text-bison-001\n",
      "models/embedding-gecko-001\n",
      "models/gemini-1.0-pro-vision-latest\n",
      "models/gemini-pro-vision\n",
      "models/gemini-1.5-pro-latest\n",
      "models/gemini-1.5-pro-001\n",
      "models/gemini-1.5-pro-002\n",
      "models/gemini-1.5-pro\n",
      "models/gemini-1.5-flash-latest\n",
      "models/gemini-1.5-flash-001\n",
      "models/gemini-1.5-flash-001-tuning\n",
      "models/gemini-1.5-flash\n",
      "models/gemini-1.5-flash-002\n",
      "models/gemini-1.5-flash-8b\n",
      "models/gemini-1.5-flash-8b-001\n",
      "models/gemini-1.5-flash-8b-latest\n",
      "models/gemini-1.5-flash-8b-exp-0827\n",
      "models/gemini-1.5-flash-8b-exp-0924\n",
      "models/gemini-2.5-pro-exp-03-25\n",
      "models/gemini-2.0-flash-exp\n",
      "models/gemini-2.0-flash\n",
      "models/gemini-2.0-flash-001\n",
      "models/gemini-2.0-flash-exp-image-generation\n",
      "models/gemini-2.0-flash-lite-001\n",
      "models/gemini-2.0-flash-lite\n",
      "models/gemini-2.0-flash-lite-preview-02-05\n",
      "models/gemini-2.0-flash-lite-preview\n",
      "models/gemini-2.0-pro-exp\n",
      "models/gemini-2.0-pro-exp-02-05\n",
      "models/gemini-exp-1206\n",
      "models/gemini-2.0-flash-thinking-exp-01-21\n",
      "models/gemini-2.0-flash-thinking-exp\n",
      "models/gemini-2.0-flash-thinking-exp-1219\n",
      "models/learnlm-1.5-pro-experimental\n",
      "models/gemma-3-27b-it\n",
      "models/embedding-001\n",
      "models/text-embedding-004\n",
      "models/gemini-embedding-exp-03-07\n",
      "models/gemini-embedding-exp\n",
      "models/aqa\n",
      "models/imagen-3.0-generate-002\n"
     ]
    }
   ],
   "source": [
    "for model in client.models.list():\n",
    "  print(model.name)"
   ]
  },
  {
   "cell_type": "markdown",
   "id": "414087d2",
   "metadata": {
    "id": "rN49kSI54R1v",
    "papermill": {
     "duration": 0.015215,
     "end_time": "2025-03-30T23:05:14.457298",
     "exception": false,
     "start_time": "2025-03-30T23:05:14.442083",
     "status": "completed"
    },
    "tags": []
   },
   "source": [
    "The [`models.list`](https://ai.google.dev/api/models#method:-models.list) response also returns additional information about the model's capabilities, like the token limits and supported parameters."
   ]
  },
  {
   "cell_type": "code",
   "execution_count": 17,
   "id": "2171017a",
   "metadata": {
    "execution": {
     "iopub.execute_input": "2025-03-30T23:05:14.490994Z",
     "iopub.status.busy": "2025-03-30T23:05:14.490589Z",
     "iopub.status.idle": "2025-03-30T23:05:14.640114Z",
     "shell.execute_reply": "2025-03-30T23:05:14.639008Z"
    },
    "id": "k7JJ1K6j4Rl8",
    "papermill": {
     "duration": 0.168168,
     "end_time": "2025-03-30T23:05:14.642051",
     "exception": false,
     "start_time": "2025-03-30T23:05:14.473883",
     "status": "completed"
    },
    "tags": []
   },
   "outputs": [
    {
     "name": "stdout",
     "output_type": "stream",
     "text": [
      "{'description': 'Gemini 2.0 Flash',\n",
      " 'display_name': 'Gemini 2.0 Flash',\n",
      " 'input_token_limit': 1048576,\n",
      " 'name': 'models/gemini-2.0-flash',\n",
      " 'output_token_limit': 8192,\n",
      " 'supported_actions': ['generateContent', 'countTokens'],\n",
      " 'tuned_model_info': {},\n",
      " 'version': '2.0'}\n"
     ]
    }
   ],
   "source": [
    "from pprint import pprint\n",
    "\n",
    "for model in client.models.list():\n",
    "  if model.name == 'models/gemini-2.0-flash':\n",
    "    pprint(model.to_json_dict())\n",
    "    break"
   ]
  },
  {
   "cell_type": "markdown",
   "id": "db50092a",
   "metadata": {
    "id": "5rU_UBlZdooM",
    "papermill": {
     "duration": 0.016361,
     "end_time": "2025-03-30T23:05:14.674494",
     "exception": false,
     "start_time": "2025-03-30T23:05:14.658133",
     "status": "completed"
    },
    "tags": []
   },
   "source": [
    "## Explore generation parameters\n",
    "\n"
   ]
  },
  {
   "cell_type": "markdown",
   "id": "38c718d5",
   "metadata": {
    "id": "G7NfEizeipbW",
    "papermill": {
     "duration": 0.01532,
     "end_time": "2025-03-30T23:05:14.705165",
     "exception": false,
     "start_time": "2025-03-30T23:05:14.689845",
     "status": "completed"
    },
    "tags": []
   },
   "source": [
    "### Output length\n",
    "\n",
    "When generating text with an LLM, the output length affects cost and performance. Generating more tokens increases computation, leading to higher energy consumption, latency, and cost.\n",
    "\n",
    "To stop the model from generating tokens past a limit, you can specify the `max_output_tokens` parameter when using the Gemini API. Specifying this parameter does not influence the generation of the output tokens, so the output will not become more stylistically or textually succinct, but it will stop generating tokens once the specified length is reached. Prompt engineering may be required to generate a more complete output for your given limit."
   ]
  },
  {
   "cell_type": "code",
   "execution_count": 18,
   "id": "97f11cf5",
   "metadata": {
    "execution": {
     "iopub.execute_input": "2025-03-30T23:05:14.737593Z",
     "iopub.status.busy": "2025-03-30T23:05:14.737203Z",
     "iopub.status.idle": "2025-03-30T23:05:16.534075Z",
     "shell.execute_reply": "2025-03-30T23:05:16.532894Z"
    },
    "id": "qVf23JsIi9ma",
    "papermill": {
     "duration": 1.815359,
     "end_time": "2025-03-30T23:05:16.535850",
     "exception": false,
     "start_time": "2025-03-30T23:05:14.720491",
     "status": "completed"
    },
    "tags": []
   },
   "outputs": [
    {
     "name": "stdout",
     "output_type": "stream",
     "text": [
      "## The Humble Olive: A Cornerstone of Modern Society\n",
      "\n",
      "The olive, that small, unassuming fruit, is far more than just a garnish on a martini or a topping on a pizza. It is a cornerstone of modern society, its influence rippling through cultures, economies, and even our understanding of health. From its ancient origins in the Mediterranean to its pervasive presence in global cuisine and beyond, the olive deserves recognition for its multifaceted importance.\n",
      "\n",
      "One of the most prominent contributions of the olive lies in its role as a dietary staple. For millennia, the olive and its oil have been central to the Mediterranean diet, a dietary pattern lauded for its health benefits and associated with longevity. Olive oil, particularly extra virgin olive oil, is rich in monounsaturated fats, powerful antioxidants, and anti-inflammatory compounds. These attributes have been linked to a reduced risk of heart disease, stroke, type 2 diabetes, and certain cancers. Modern research continues to unravel the complex ways in which olive oil contributes to overall\n"
     ]
    }
   ],
   "source": [
    "from google.genai import types\n",
    "\n",
    "short_config = types.GenerateContentConfig(max_output_tokens=200)\n",
    "\n",
    "response = client.models.generate_content(\n",
    "    model='gemini-2.0-flash',\n",
    "    config=short_config,\n",
    "    contents='Write a 1000 word essay on the importance of olives in modern society.')\n",
    "\n",
    "print(response.text)"
   ]
  },
  {
   "cell_type": "code",
   "execution_count": 19,
   "id": "cf4101f6",
   "metadata": {
    "execution": {
     "iopub.execute_input": "2025-03-30T23:05:16.568487Z",
     "iopub.status.busy": "2025-03-30T23:05:16.568081Z",
     "iopub.status.idle": "2025-03-30T23:05:16.574176Z",
     "shell.execute_reply": "2025-03-30T23:05:16.573132Z"
    },
    "papermill": {
     "duration": 0.024028,
     "end_time": "2025-03-30T23:05:16.575665",
     "exception": false,
     "start_time": "2025-03-30T23:05:16.551637",
     "status": "completed"
    },
    "tags": []
   },
   "outputs": [
    {
     "data": {
      "text/markdown": [
       "## The Humble Olive: A Cornerstone of Modern Society\n",
       "\n",
       "The olive, that small, unassuming fruit, is far more than just a garnish on a martini or a topping on a pizza. It is a cornerstone of modern society, its influence rippling through cultures, economies, and even our understanding of health. From its ancient origins in the Mediterranean to its pervasive presence in global cuisine and beyond, the olive deserves recognition for its multifaceted importance.\n",
       "\n",
       "One of the most prominent contributions of the olive lies in its role as a dietary staple. For millennia, the olive and its oil have been central to the Mediterranean diet, a dietary pattern lauded for its health benefits and associated with longevity. Olive oil, particularly extra virgin olive oil, is rich in monounsaturated fats, powerful antioxidants, and anti-inflammatory compounds. These attributes have been linked to a reduced risk of heart disease, stroke, type 2 diabetes, and certain cancers. Modern research continues to unravel the complex ways in which olive oil contributes to overall"
      ],
      "text/plain": [
       "<IPython.core.display.Markdown object>"
      ]
     },
     "execution_count": 19,
     "metadata": {},
     "output_type": "execute_result"
    }
   ],
   "source": [
    "Markdown(response.text)"
   ]
  },
  {
   "cell_type": "code",
   "execution_count": 20,
   "id": "4dbc20ea",
   "metadata": {
    "execution": {
     "iopub.execute_input": "2025-03-30T23:05:16.609927Z",
     "iopub.status.busy": "2025-03-30T23:05:16.609570Z",
     "iopub.status.idle": "2025-03-30T23:05:17.701211Z",
     "shell.execute_reply": "2025-03-30T23:05:17.699623Z"
    },
    "id": "W-3kR2F5kdMR",
    "papermill": {
     "duration": 1.110858,
     "end_time": "2025-03-30T23:05:17.703071",
     "exception": false,
     "start_time": "2025-03-30T23:05:16.592213",
     "status": "completed"
    },
    "tags": []
   },
   "outputs": [
    {
     "name": "stdout",
     "output_type": "stream",
     "text": [
      "From sun-baked groves to tables spread,\n",
      "A tiny fruit, deep green or red.\n",
      "In salads tossed, on pizzas bright,\n",
      "An oil that glows, a culinary light.\n",
      "\n",
      "A tapenade, a briny treat,\n",
      "A symbol shared, for all to meet.\n",
      "Though humble grown, its worth's untold,\n",
      "A taste of life, both new and old.\n",
      "\n"
     ]
    }
   ],
   "source": [
    "response = client.models.generate_content(\n",
    "    model='gemini-2.0-flash',\n",
    "    config=short_config,\n",
    "    contents='Write a short poem on the importance of olives in modern society.')\n",
    "\n",
    "print(response.text)"
   ]
  },
  {
   "cell_type": "code",
   "execution_count": 21,
   "id": "3baf9d48",
   "metadata": {
    "execution": {
     "iopub.execute_input": "2025-03-30T23:05:17.736221Z",
     "iopub.status.busy": "2025-03-30T23:05:17.735833Z",
     "iopub.status.idle": "2025-03-30T23:05:17.741894Z",
     "shell.execute_reply": "2025-03-30T23:05:17.740996Z"
    },
    "papermill": {
     "duration": 0.02484,
     "end_time": "2025-03-30T23:05:17.743934",
     "exception": false,
     "start_time": "2025-03-30T23:05:17.719094",
     "status": "completed"
    },
    "tags": []
   },
   "outputs": [
    {
     "data": {
      "text/markdown": [
       "From sun-baked groves to tables spread,\n",
       "A tiny fruit, deep green or red.\n",
       "In salads tossed, on pizzas bright,\n",
       "An oil that glows, a culinary light.\n",
       "\n",
       "A tapenade, a briny treat,\n",
       "A symbol shared, for all to meet.\n",
       "Though humble grown, its worth's untold,\n",
       "A taste of life, both new and old.\n"
      ],
      "text/plain": [
       "<IPython.core.display.Markdown object>"
      ]
     },
     "execution_count": 21,
     "metadata": {},
     "output_type": "execute_result"
    }
   ],
   "source": [
    "Markdown(response.text)"
   ]
  },
  {
   "cell_type": "markdown",
   "id": "0a8ee42e",
   "metadata": {
    "id": "3ZhDSLB6lqqB",
    "papermill": {
     "duration": 0.01554,
     "end_time": "2025-03-30T23:05:17.777285",
     "exception": false,
     "start_time": "2025-03-30T23:05:17.761745",
     "status": "completed"
    },
    "tags": []
   },
   "source": [
    "Explore with your own prompts. Try a prompt with a restrictive output limit and then adjust the prompt to work within that limit."
   ]
  },
  {
   "cell_type": "code",
   "execution_count": 22,
   "id": "80679561",
   "metadata": {
    "execution": {
     "iopub.execute_input": "2025-03-30T23:05:17.809972Z",
     "iopub.status.busy": "2025-03-30T23:05:17.809553Z",
     "iopub.status.idle": "2025-03-30T23:05:18.804600Z",
     "shell.execute_reply": "2025-03-30T23:05:18.803413Z"
    },
    "papermill": {
     "duration": 1.013301,
     "end_time": "2025-03-30T23:05:18.806230",
     "exception": false,
     "start_time": "2025-03-30T23:05:17.792929",
     "status": "completed"
    },
    "tags": []
   },
   "outputs": [
    {
     "name": "stdout",
     "output_type": "stream",
     "text": [
      "First attempt (may be truncated):\n",
      "From sun-drenched groves, a humble fruit\n",
      "--------------------------------------------------\n",
      "Second attempt (adjusted for brevity):\n",
      "From ancient groves to modern fare,\n",
      "The humble\n"
     ]
    }
   ],
   "source": [
    "# Define a restrictive configuration with a low token limit\n",
    "short_config = types.GenerateContentConfig(max_output_tokens=10)\n",
    "\n",
    "# First attempt: Likely to be cut off due to token limit\n",
    "response = client.models.generate_content(\n",
    "    model='gemini-2.0-flash',\n",
    "    config=short_config,\n",
    "    contents='Write a short poem on the importance of olives in modern society.'\n",
    ")\n",
    "\n",
    "print(\"First attempt (may be truncated):\")\n",
    "print(response.text)\n",
    "print('-' * 50)\n",
    "\n",
    "# Adjust the prompt to fit within the restrictive limit\n",
    "response = client.models.generate_content(\n",
    "    model='gemini-2.0-flash',\n",
    "    config=short_config,\n",
    "    contents='Write a two-line poem on the importance of olives in modern society.'\n",
    ")\n",
    "\n",
    "print(\"Second attempt (adjusted for brevity):\")\n",
    "print(response.text)"
   ]
  },
  {
   "cell_type": "code",
   "execution_count": 23,
   "id": "1a4a9194",
   "metadata": {
    "execution": {
     "iopub.execute_input": "2025-03-30T23:05:18.839822Z",
     "iopub.status.busy": "2025-03-30T23:05:18.839455Z",
     "iopub.status.idle": "2025-03-30T23:05:18.845651Z",
     "shell.execute_reply": "2025-03-30T23:05:18.844444Z"
    },
    "papermill": {
     "duration": 0.025003,
     "end_time": "2025-03-30T23:05:18.847431",
     "exception": false,
     "start_time": "2025-03-30T23:05:18.822428",
     "status": "completed"
    },
    "tags": []
   },
   "outputs": [
    {
     "data": {
      "text/markdown": [
       "From ancient groves to modern fare,\n",
       "The humble"
      ],
      "text/plain": [
       "<IPython.core.display.Markdown object>"
      ]
     },
     "execution_count": 23,
     "metadata": {},
     "output_type": "execute_result"
    }
   ],
   "source": [
    "Markdown(response.text)"
   ]
  },
  {
   "cell_type": "markdown",
   "id": "c48b18a8",
   "metadata": {
    "id": "alx-WaAvir_9",
    "papermill": {
     "duration": 0.016167,
     "end_time": "2025-03-30T23:05:18.879863",
     "exception": false,
     "start_time": "2025-03-30T23:05:18.863696",
     "status": "completed"
    },
    "tags": []
   },
   "source": [
    "### Temperature\n",
    "\n",
    "Temperature controls the degree of randomness in token selection. Higher temperatures result in a higher number of candidate tokens from which the next output token is selected, and can produce more diverse results, while lower temperatures have the opposite effect, such that a temperature of 0 results in greedy decoding, selecting the most probable token at each step.\n",
    "\n",
    "Temperature doesn't provide any guarantees of randomness, but it can be used to \"nudge\" the output somewhat."
   ]
  },
  {
   "cell_type": "code",
   "execution_count": 24,
   "id": "5192c229",
   "metadata": {
    "execution": {
     "iopub.execute_input": "2025-03-30T23:05:18.913679Z",
     "iopub.status.busy": "2025-03-30T23:05:18.913228Z",
     "iopub.status.idle": "2025-03-30T23:05:21.608464Z",
     "shell.execute_reply": "2025-03-30T23:05:21.607229Z"
    },
    "id": "SHraGMzqnZqt",
    "papermill": {
     "duration": 2.714269,
     "end_time": "2025-03-30T23:05:21.610276",
     "exception": false,
     "start_time": "2025-03-30T23:05:18.896007",
     "status": "completed"
    },
    "tags": []
   },
   "outputs": [
    {
     "name": "stdout",
     "output_type": "stream",
     "text": [
      "Turquoise\n",
      " -------------------------\n",
      "Cerulean.\n",
      " -------------------------\n",
      "Cerulean\n",
      " -------------------------\n",
      "Magenta.\n",
      " -------------------------\n",
      "Mauve\n",
      " -------------------------\n"
     ]
    }
   ],
   "source": [
    "high_temp_config = types.GenerateContentConfig(temperature=2.0)\n",
    "\n",
    "\n",
    "for _ in range(5):\n",
    "  response = client.models.generate_content(\n",
    "      model='gemini-2.0-flash',\n",
    "      config=high_temp_config,\n",
    "      contents='Pick a random colour... (respond in a single word)')\n",
    "\n",
    "  if response.text:\n",
    "    print(response.text, '-' * 25)"
   ]
  },
  {
   "cell_type": "markdown",
   "id": "cc10ef71",
   "metadata": {
    "id": "z3J4pCTuof7e",
    "papermill": {
     "duration": 0.016628,
     "end_time": "2025-03-30T23:05:21.643812",
     "exception": false,
     "start_time": "2025-03-30T23:05:21.627184",
     "status": "completed"
    },
    "tags": []
   },
   "source": [
    "Now try the same prompt with temperature set to zero. Note that the output is not completely deterministic, as other parameters affect token selection, but the results will tend to be more stable."
   ]
  },
  {
   "cell_type": "code",
   "execution_count": 25,
   "id": "ad98469d",
   "metadata": {
    "execution": {
     "iopub.execute_input": "2025-03-30T23:05:21.677870Z",
     "iopub.status.busy": "2025-03-30T23:05:21.677465Z",
     "iopub.status.idle": "2025-03-30T23:05:25.562542Z",
     "shell.execute_reply": "2025-03-30T23:05:25.561266Z"
    },
    "id": "clymkWv-PfUZ",
    "papermill": {
     "duration": 3.904464,
     "end_time": "2025-03-30T23:05:25.564525",
     "exception": false,
     "start_time": "2025-03-30T23:05:21.660061",
     "status": "completed"
    },
    "tags": []
   },
   "outputs": [
    {
     "name": "stdout",
     "output_type": "stream",
     "text": [
      "Azure\n",
      " -------------------------\n",
      "Azure\n",
      " -------------------------\n",
      "Azure\n",
      " -------------------------\n",
      "Azure\n",
      " -------------------------\n",
      "Azure\n",
      " -------------------------\n"
     ]
    }
   ],
   "source": [
    "low_temp_config = types.GenerateContentConfig(temperature=0.0)\n",
    "\n",
    "for _ in range(5):\n",
    "  response = client.models.generate_content(\n",
    "      model='gemini-2.0-flash',\n",
    "      config=low_temp_config,\n",
    "      contents='Pick a random colour... (respond in a single word)')\n",
    "\n",
    "  if response.text:\n",
    "    print(response.text, '-' * 25)"
   ]
  },
  {
   "cell_type": "markdown",
   "id": "cb714b6c",
   "metadata": {
    "id": "St5nt3vzitsZ",
    "papermill": {
     "duration": 0.01658,
     "end_time": "2025-03-30T23:05:25.598349",
     "exception": false,
     "start_time": "2025-03-30T23:05:25.581769",
     "status": "completed"
    },
    "tags": []
   },
   "source": [
    "### Top-P\n",
    "\n",
    "Like temperature, the top-P parameter is also used to control the diversity of the model's output.\n",
    "\n",
    "Top-P defines the probability threshold that, once cumulatively exceeded, tokens stop being selected as candidates. A top-P of 0 is typically equivalent to greedy decoding, and a top-P of 1 typically selects every token in the model's vocabulary.\n",
    "\n",
    "You may also see top-K referenced in LLM literature. Top-K is not configurable in the Gemini 2.0 series of models, but can be changed in older models. Top-K is a positive integer that defines the number of most probable tokens from which to select the output token. A top-K of 1 selects a single token, performing greedy decoding.\n",
    "\n",
    "\n",
    "Run this example a number of times, change the settings and observe the change in output."
   ]
  },
  {
   "cell_type": "code",
   "execution_count": 26,
   "id": "816ed231",
   "metadata": {
    "execution": {
     "iopub.execute_input": "2025-03-30T23:05:25.633312Z",
     "iopub.status.busy": "2025-03-30T23:05:25.632919Z",
     "iopub.status.idle": "2025-03-30T23:05:30.177556Z",
     "shell.execute_reply": "2025-03-30T23:05:30.176293Z"
    },
    "id": "lPlzpEavUV8F",
    "papermill": {
     "duration": 4.564253,
     "end_time": "2025-03-30T23:05:30.179462",
     "exception": false,
     "start_time": "2025-03-30T23:05:25.615209",
     "status": "completed"
    },
    "tags": []
   },
   "outputs": [
    {
     "name": "stdout",
     "output_type": "stream",
     "text": [
      "Whiskers twitched. Clementine, a ginger tabby with emerald eyes, stretched languidly, claws extending then retracting from the worn rug. Boredom, thick and cloying as dust bunnies, settled in her fur. The sunbeam illuminating her usual napping spot held no allure today. She craved something… more.\n",
      "\n",
      "Her gaze fell on the slightly ajar back door, a sliver of emerald lawn beckoning beyond. Usually, venturing past the patio was forbidden, a boundary enforced with stern \"No, Clementine!\"s and the gentle shoo of a broom. But today, the call of the unknown was too strong to resist.\n",
      "\n",
      "Slipping through the opening, Clementine found herself in a world of towering green stalks – the forbidden jungle of the vegetable garden. Basil's fragrant aroma tickled her nose, and fat, juicy tomatoes hung like tempting rubies. This was already more exciting than the sunbeam.\n",
      "\n",
      "Her adventure truly began when a butterfly, its wings painted with sunset hues, flitted past. Clementine, instincts roaring to life, gave chase. The butterfly led her further than she'd ever dared, past the lettuce patch and into a tangle of overgrown ivy that bordered the neighbor's yard.\n",
      "\n",
      "The ivy was a labyrinth of leafy tunnels, damp and cool. Strange rustling sounds filled the air. Clementine, usually a creature of comfort, found herself invigorated by the unknown. She imagined herself an intrepid explorer, charting uncharted territories.\n",
      "\n",
      "Then she saw it. A flash of crimson beneath a cluster of ivy leaves. Curious, she wriggled closer and discovered… a robin's nest! Three speckled eggs nestled within, their pale shells radiating a fragile beauty. A pang of protectiveness, something she'd never felt before, washed over her.\n",
      "\n",
      "Suddenly, a dark shape swooped from the sky. A crow, its eyes beady and malevolent, landed on a nearby branch, its gaze fixed on the nest. Clementine knew, with a certainty that vibrated in her whiskers, that she had to act.\n",
      "\n",
      "Forget boredom, forget comfort. She was a guardian now.\n",
      "\n",
      "With a hiss that surprised even herself, Clementine launched into the air, a ginger blur of fury. She swatted at the crow, her claws extended but held carefully back, mindful of the eggs. The crow, startled by the sudden attack, squawked in indignation and flapped awkwardly away.\n",
      "\n",
      "Clementine stood guard, her fur bristling, until the robin returned, chirping anxiously. Seeing its nest unharmed, the robin hopped onto the rim and looked at Clementine with something akin to gratitude in its bright, black eyes.\n",
      "\n",
      "The sun was beginning to dip below the horizon when Clementine finally retraced her steps, leaving the ivy jungle and the guarded nest behind. She slipped back through the ajar door, leaving no trace of her adventure.\n",
      "\n",
      "Back on the worn rug, bathed in the warm glow of the setting sun, Clementine stretched again. This time, the boredom was gone, replaced by a quiet satisfaction. She was no longer just a house cat. She was a protector, an explorer, a hero. And as she drifted off to sleep, she dreamt of butterflies, robin's eggs, and the thrilling, dangerous, and ultimately rewarding world that lay just beyond the back door.\n",
      "\n"
     ]
    }
   ],
   "source": [
    "model_config = types.GenerateContentConfig(\n",
    "    # These are the default values for gemini-2.0-flash.\n",
    "    temperature=1.0,\n",
    "    top_p=0.95,\n",
    ")\n",
    "\n",
    "story_prompt = \"You are a creative writer. Write a short story about a cat who goes on an adventure.\"\n",
    "response = client.models.generate_content(\n",
    "    model='gemini-2.0-flash',\n",
    "    config=model_config,\n",
    "    contents=story_prompt)\n",
    "\n",
    "print(response.text)"
   ]
  },
  {
   "cell_type": "code",
   "execution_count": 27,
   "id": "91075db1",
   "metadata": {
    "execution": {
     "iopub.execute_input": "2025-03-30T23:05:30.214831Z",
     "iopub.status.busy": "2025-03-30T23:05:30.214440Z",
     "iopub.status.idle": "2025-03-30T23:05:30.220480Z",
     "shell.execute_reply": "2025-03-30T23:05:30.219404Z"
    },
    "papermill": {
     "duration": 0.025539,
     "end_time": "2025-03-30T23:05:30.222094",
     "exception": false,
     "start_time": "2025-03-30T23:05:30.196555",
     "status": "completed"
    },
    "tags": []
   },
   "outputs": [
    {
     "data": {
      "text/markdown": [
       "Whiskers twitched. Clementine, a ginger tabby with emerald eyes, stretched languidly, claws extending then retracting from the worn rug. Boredom, thick and cloying as dust bunnies, settled in her fur. The sunbeam illuminating her usual napping spot held no allure today. She craved something… more.\n",
       "\n",
       "Her gaze fell on the slightly ajar back door, a sliver of emerald lawn beckoning beyond. Usually, venturing past the patio was forbidden, a boundary enforced with stern \"No, Clementine!\"s and the gentle shoo of a broom. But today, the call of the unknown was too strong to resist.\n",
       "\n",
       "Slipping through the opening, Clementine found herself in a world of towering green stalks – the forbidden jungle of the vegetable garden. Basil's fragrant aroma tickled her nose, and fat, juicy tomatoes hung like tempting rubies. This was already more exciting than the sunbeam.\n",
       "\n",
       "Her adventure truly began when a butterfly, its wings painted with sunset hues, flitted past. Clementine, instincts roaring to life, gave chase. The butterfly led her further than she'd ever dared, past the lettuce patch and into a tangle of overgrown ivy that bordered the neighbor's yard.\n",
       "\n",
       "The ivy was a labyrinth of leafy tunnels, damp and cool. Strange rustling sounds filled the air. Clementine, usually a creature of comfort, found herself invigorated by the unknown. She imagined herself an intrepid explorer, charting uncharted territories.\n",
       "\n",
       "Then she saw it. A flash of crimson beneath a cluster of ivy leaves. Curious, she wriggled closer and discovered… a robin's nest! Three speckled eggs nestled within, their pale shells radiating a fragile beauty. A pang of protectiveness, something she'd never felt before, washed over her.\n",
       "\n",
       "Suddenly, a dark shape swooped from the sky. A crow, its eyes beady and malevolent, landed on a nearby branch, its gaze fixed on the nest. Clementine knew, with a certainty that vibrated in her whiskers, that she had to act.\n",
       "\n",
       "Forget boredom, forget comfort. She was a guardian now.\n",
       "\n",
       "With a hiss that surprised even herself, Clementine launched into the air, a ginger blur of fury. She swatted at the crow, her claws extended but held carefully back, mindful of the eggs. The crow, startled by the sudden attack, squawked in indignation and flapped awkwardly away.\n",
       "\n",
       "Clementine stood guard, her fur bristling, until the robin returned, chirping anxiously. Seeing its nest unharmed, the robin hopped onto the rim and looked at Clementine with something akin to gratitude in its bright, black eyes.\n",
       "\n",
       "The sun was beginning to dip below the horizon when Clementine finally retraced her steps, leaving the ivy jungle and the guarded nest behind. She slipped back through the ajar door, leaving no trace of her adventure.\n",
       "\n",
       "Back on the worn rug, bathed in the warm glow of the setting sun, Clementine stretched again. This time, the boredom was gone, replaced by a quiet satisfaction. She was no longer just a house cat. She was a protector, an explorer, a hero. And as she drifted off to sleep, she dreamt of butterflies, robin's eggs, and the thrilling, dangerous, and ultimately rewarding world that lay just beyond the back door.\n"
      ],
      "text/plain": [
       "<IPython.core.display.Markdown object>"
      ]
     },
     "execution_count": 27,
     "metadata": {},
     "output_type": "execute_result"
    }
   ],
   "source": [
    "Markdown(response.text)"
   ]
  },
  {
   "cell_type": "markdown",
   "id": "11e4d46b",
   "metadata": {
    "id": "rMrYs1koY6DX",
    "papermill": {
     "duration": 0.016433,
     "end_time": "2025-03-30T23:05:30.256348",
     "exception": false,
     "start_time": "2025-03-30T23:05:30.239915",
     "status": "completed"
    },
    "tags": []
   },
   "source": [
    "## Prompting\n",
    "\n",
    "This section contains some prompts from the chapter for you to try out directly in the API. Try changing the text here to see how each prompt performs with different instructions, more examples, or any other changes you can think of."
   ]
  },
  {
   "cell_type": "markdown",
   "id": "c76e8786",
   "metadata": {
    "id": "hhj_tQidZJP7",
    "papermill": {
     "duration": 0.016363,
     "end_time": "2025-03-30T23:05:30.289380",
     "exception": false,
     "start_time": "2025-03-30T23:05:30.273017",
     "status": "completed"
    },
    "tags": []
   },
   "source": [
    "### Zero-shot\n",
    "\n",
    "Zero-shot prompts are prompts that describe the request for the model directly.\n",
    "\n",
    "<table align=left>\n",
    "  <td>\n",
    "    <a target=\"_blank\" href=\"https://aistudio.google.com/prompts/1gzKKgDHwkAvexG5Up0LMtl1-6jKMKe4g\"><img src=\"https://ai.google.dev/site-assets/images/marketing/home/icon-ais.png\" style=\"height: 24px\" height=24/> Open in AI Studio</a>\n",
    "  </td>\n",
    "</table>"
   ]
  },
  {
   "cell_type": "code",
   "execution_count": 28,
   "id": "38c65288",
   "metadata": {
    "execution": {
     "iopub.execute_input": "2025-03-30T23:05:30.324364Z",
     "iopub.status.busy": "2025-03-30T23:05:30.323977Z",
     "iopub.status.idle": "2025-03-30T23:05:30.688386Z",
     "shell.execute_reply": "2025-03-30T23:05:30.687227Z"
    },
    "id": "1_t-cwnDZzbH",
    "papermill": {
     "duration": 0.38367,
     "end_time": "2025-03-30T23:05:30.690032",
     "exception": false,
     "start_time": "2025-03-30T23:05:30.306362",
     "status": "completed"
    },
    "tags": []
   },
   "outputs": [
    {
     "name": "stdout",
     "output_type": "stream",
     "text": [
      "POSITIVE\n",
      "\n"
     ]
    }
   ],
   "source": [
    "model_config = types.GenerateContentConfig(\n",
    "    temperature=0.1,\n",
    "    top_p=1,\n",
    "    max_output_tokens=5,\n",
    ")\n",
    "\n",
    "zero_shot_prompt = \"\"\"Classify movie reviews as POSITIVE, NEUTRAL or NEGATIVE.\n",
    "Review: \"Her\" is a disturbing study revealing the direction\n",
    "humanity is headed if AI is allowed to keep evolving,\n",
    "unchecked. I wish there were more movies like this masterpiece.\n",
    "Sentiment: \"\"\"\n",
    "\n",
    "response = client.models.generate_content(\n",
    "    model='gemini-2.0-flash',\n",
    "    config=model_config,\n",
    "    contents=zero_shot_prompt)\n",
    "\n",
    "print(response.text)"
   ]
  },
  {
   "cell_type": "code",
   "execution_count": 29,
   "id": "0f3bbc09",
   "metadata": {
    "execution": {
     "iopub.execute_input": "2025-03-30T23:05:30.729278Z",
     "iopub.status.busy": "2025-03-30T23:05:30.728844Z",
     "iopub.status.idle": "2025-03-30T23:05:30.735104Z",
     "shell.execute_reply": "2025-03-30T23:05:30.734103Z"
    },
    "papermill": {
     "duration": 0.027556,
     "end_time": "2025-03-30T23:05:30.736647",
     "exception": false,
     "start_time": "2025-03-30T23:05:30.709091",
     "status": "completed"
    },
    "tags": []
   },
   "outputs": [
    {
     "data": {
      "text/markdown": [
       "POSITIVE\n"
      ],
      "text/plain": [
       "<IPython.core.display.Markdown object>"
      ]
     },
     "execution_count": 29,
     "metadata": {},
     "output_type": "execute_result"
    }
   ],
   "source": [
    "Markdown(response.text)"
   ]
  },
  {
   "cell_type": "markdown",
   "id": "770cd1ef",
   "metadata": {
    "id": "3b5568bdeb11",
    "papermill": {
     "duration": 0.016827,
     "end_time": "2025-03-30T23:05:30.770820",
     "exception": false,
     "start_time": "2025-03-30T23:05:30.753993",
     "status": "completed"
    },
    "tags": []
   },
   "source": [
    "#### Enum mode\n",
    "\n",
    "The models are trained to generate text, and while the Gemini 2.0 models are great at following instructions, other models can sometimes produce more text than you may wish for. In the preceding example, the model will output the label, but sometimes it can include a preceding \"Sentiment\" label, and without an output token limit, it may also add explanatory text afterwards. See [this prompt in AI Studio](https://aistudio.google.com/prompts/1gzKKgDHwkAvexG5Up0LMtl1-6jKMKe4g) for an example.\n",
    "\n",
    "The Gemini API has an [Enum mode](https://github.com/google-gemini/cookbook/blob/main/quickstarts/Enum.ipynb) feature that allows you to constrain the output to a fixed set of values."
   ]
  },
  {
   "cell_type": "code",
   "execution_count": 30,
   "id": "33325342",
   "metadata": {
    "execution": {
     "iopub.execute_input": "2025-03-30T23:05:30.806564Z",
     "iopub.status.busy": "2025-03-30T23:05:30.806094Z",
     "iopub.status.idle": "2025-03-30T23:05:31.260856Z",
     "shell.execute_reply": "2025-03-30T23:05:31.259551Z"
    },
    "id": "ad118a56c598",
    "papermill": {
     "duration": 0.474737,
     "end_time": "2025-03-30T23:05:31.262653",
     "exception": false,
     "start_time": "2025-03-30T23:05:30.787916",
     "status": "completed"
    },
    "tags": []
   },
   "outputs": [
    {
     "name": "stdout",
     "output_type": "stream",
     "text": [
      "positive\n"
     ]
    }
   ],
   "source": [
    "import enum\n",
    "\n",
    "class Sentiment(enum.Enum):\n",
    "    POSITIVE = \"positive\"\n",
    "    NEUTRAL = \"neutral\"\n",
    "    NEGATIVE = \"negative\"\n",
    "\n",
    "\n",
    "response = client.models.generate_content(\n",
    "    model='gemini-2.0-flash',\n",
    "    config=types.GenerateContentConfig(\n",
    "        response_mime_type=\"text/x.enum\",\n",
    "        response_schema=Sentiment\n",
    "    ),\n",
    "    contents=zero_shot_prompt)\n",
    "\n",
    "print(response.text)"
   ]
  },
  {
   "cell_type": "markdown",
   "id": "15261615",
   "metadata": {
    "papermill": {
     "duration": 0.016768,
     "end_time": "2025-03-30T23:05:31.296705",
     "exception": false,
     "start_time": "2025-03-30T23:05:31.279937",
     "status": "completed"
    },
    "tags": []
   },
   "source": [
    "When using constrained output like an enum, the Python SDK will attempt to convert the model's text response into a Python object automatically. It's stored in the `response.parsed` field."
   ]
  },
  {
   "cell_type": "code",
   "execution_count": 31,
   "id": "8d4b9b34",
   "metadata": {
    "execution": {
     "iopub.execute_input": "2025-03-30T23:05:31.332941Z",
     "iopub.status.busy": "2025-03-30T23:05:31.332584Z",
     "iopub.status.idle": "2025-03-30T23:05:31.338495Z",
     "shell.execute_reply": "2025-03-30T23:05:31.337597Z"
    },
    "papermill": {
     "duration": 0.02546,
     "end_time": "2025-03-30T23:05:31.339883",
     "exception": false,
     "start_time": "2025-03-30T23:05:31.314423",
     "status": "completed"
    },
    "tags": []
   },
   "outputs": [
    {
     "data": {
      "text/markdown": [
       "positive"
      ],
      "text/plain": [
       "<IPython.core.display.Markdown object>"
      ]
     },
     "execution_count": 31,
     "metadata": {},
     "output_type": "execute_result"
    }
   ],
   "source": [
    "Markdown(response.text)"
   ]
  },
  {
   "cell_type": "code",
   "execution_count": 32,
   "id": "3ec229ca",
   "metadata": {
    "execution": {
     "iopub.execute_input": "2025-03-30T23:05:31.375504Z",
     "iopub.status.busy": "2025-03-30T23:05:31.375097Z",
     "iopub.status.idle": "2025-03-30T23:05:31.380403Z",
     "shell.execute_reply": "2025-03-30T23:05:31.379294Z"
    },
    "papermill": {
     "duration": 0.024652,
     "end_time": "2025-03-30T23:05:31.381871",
     "exception": false,
     "start_time": "2025-03-30T23:05:31.357219",
     "status": "completed"
    },
    "tags": []
   },
   "outputs": [
    {
     "name": "stdout",
     "output_type": "stream",
     "text": [
      "Sentiment.POSITIVE\n",
      "<enum 'Sentiment'>\n"
     ]
    }
   ],
   "source": [
    "enum_response = response.parsed\n",
    "print(enum_response)\n",
    "print(type(enum_response))"
   ]
  },
  {
   "cell_type": "markdown",
   "id": "208af282",
   "metadata": {
    "id": "0udiSwNbv45W",
    "papermill": {
     "duration": 0.017657,
     "end_time": "2025-03-30T23:05:31.416890",
     "exception": false,
     "start_time": "2025-03-30T23:05:31.399233",
     "status": "completed"
    },
    "tags": []
   },
   "source": [
    "### One-shot and few-shot\n",
    "\n",
    "Providing an example of the expected response is known as a \"one-shot\" prompt. When you provide multiple examples, it is a \"few-shot\" prompt.\n",
    "\n",
    "<table align=left>\n",
    "  <td>\n",
    "    <a target=\"_blank\" href=\"https://aistudio.google.com/prompts/1jjWkjUSoMXmLvMJ7IzADr_GxHPJVV2bg\"><img src=\"https://ai.google.dev/site-assets/images/marketing/home/icon-ais.png\" style=\"height: 24px\" height=24/> Open in AI Studio</a>\n",
    "  </td>\n",
    "</table>\n"
   ]
  },
  {
   "cell_type": "code",
   "execution_count": 33,
   "id": "ce3f8dc9",
   "metadata": {
    "execution": {
     "iopub.execute_input": "2025-03-30T23:05:31.452401Z",
     "iopub.status.busy": "2025-03-30T23:05:31.452017Z",
     "iopub.status.idle": "2025-03-30T23:05:31.926002Z",
     "shell.execute_reply": "2025-03-30T23:05:31.924673Z"
    },
    "id": "hd4mVUukwOKZ",
    "papermill": {
     "duration": 0.493589,
     "end_time": "2025-03-30T23:05:31.927620",
     "exception": false,
     "start_time": "2025-03-30T23:05:31.434031",
     "status": "completed"
    },
    "tags": []
   },
   "outputs": [
    {
     "name": "stdout",
     "output_type": "stream",
     "text": [
      "```json\n",
      "{\n",
      "\"size\": \"large\",\n",
      "\"type\": \"normal\",\n",
      "\"ingredients\": [\"cheese\", \"pineapple\"]\n",
      "}\n",
      "```\n",
      "\n"
     ]
    }
   ],
   "source": [
    "few_shot_prompt = \"\"\"Parse a customer's pizza order into valid JSON:\n",
    "\n",
    "EXAMPLE:\n",
    "I want a small pizza with cheese, tomato sauce, and pepperoni.\n",
    "JSON Response:\n",
    "```\n",
    "{\n",
    "\"size\": \"small\",\n",
    "\"type\": \"normal\",\n",
    "\"ingredients\": [\"cheese\", \"tomato sauce\", \"pepperoni\"]\n",
    "}\n",
    "```\n",
    "\n",
    "EXAMPLE:\n",
    "Can I get a large pizza with tomato sauce, basil and mozzarella\n",
    "JSON Response:\n",
    "```\n",
    "{\n",
    "\"size\": \"large\",\n",
    "\"type\": \"normal\",\n",
    "\"ingredients\": [\"tomato sauce\", \"basil\", \"mozzarella\"]\n",
    "}\n",
    "```\n",
    "\n",
    "ORDER:\n",
    "\"\"\"\n",
    "\n",
    "customer_order = \"Give me a large with cheese & pineapple\"\n",
    "\n",
    "response = client.models.generate_content(\n",
    "    model='gemini-2.0-flash',\n",
    "    config=types.GenerateContentConfig(\n",
    "        temperature=0.1,\n",
    "        top_p=1,\n",
    "        max_output_tokens=250,\n",
    "    ),\n",
    "    contents=[few_shot_prompt, customer_order])\n",
    "\n",
    "print(response.text)"
   ]
  },
  {
   "cell_type": "markdown",
   "id": "3a847a98",
   "metadata": {
    "id": "021293096f08",
    "papermill": {
     "duration": 0.016845,
     "end_time": "2025-03-30T23:05:31.961897",
     "exception": false,
     "start_time": "2025-03-30T23:05:31.945052",
     "status": "completed"
    },
    "tags": []
   },
   "source": [
    "#### JSON mode\n",
    "\n",
    "To provide control over the schema, and to ensure that you only receive JSON (with no other text or markdown), you can use the Gemini API's [JSON mode](https://github.com/google-gemini/cookbook/blob/main/quickstarts/JSON_mode.ipynb). This forces the model to constrain decoding, such that token selection is guided by the supplied schema."
   ]
  },
  {
   "cell_type": "code",
   "execution_count": 34,
   "id": "8ccb3fc1",
   "metadata": {
    "execution": {
     "iopub.execute_input": "2025-03-30T23:05:31.997924Z",
     "iopub.status.busy": "2025-03-30T23:05:31.997574Z",
     "iopub.status.idle": "2025-03-30T23:05:32.544112Z",
     "shell.execute_reply": "2025-03-30T23:05:32.542581Z"
    },
    "id": "50fbf0260912",
    "papermill": {
     "duration": 0.566899,
     "end_time": "2025-03-30T23:05:32.545990",
     "exception": false,
     "start_time": "2025-03-30T23:05:31.979091",
     "status": "completed"
    },
    "tags": []
   },
   "outputs": [
    {
     "name": "stdout",
     "output_type": "stream",
     "text": [
      "{\n",
      "  \"size\": \"large\",\n",
      "  \"ingredients\": [\"apple\", \"chocolate\"],\n",
      "  \"type\": \"dessert\"\n",
      "}\n"
     ]
    }
   ],
   "source": [
    "import typing_extensions as typing\n",
    "\n",
    "class PizzaOrder(typing.TypedDict):\n",
    "    size: str\n",
    "    ingredients: list[str]\n",
    "    type: str\n",
    "\n",
    "\n",
    "response = client.models.generate_content(\n",
    "    model='gemini-2.0-flash',\n",
    "    config=types.GenerateContentConfig(\n",
    "        temperature=0.1,\n",
    "        response_mime_type=\"application/json\",\n",
    "        response_schema=PizzaOrder,\n",
    "    ),\n",
    "    contents=\"Can I have a large dessert pizza with apple and chocolate\")\n",
    "\n",
    "print(response.text)"
   ]
  },
  {
   "cell_type": "markdown",
   "id": "cdc37412",
   "metadata": {
    "id": "4a93e338e57c",
    "papermill": {
     "duration": 0.017167,
     "end_time": "2025-03-30T23:05:32.580885",
     "exception": false,
     "start_time": "2025-03-30T23:05:32.563718",
     "status": "completed"
    },
    "tags": []
   },
   "source": [
    "### Chain of Thought (CoT)\n",
    "\n",
    "Direct prompting on LLMs can return answers quickly and (in terms of output token usage) efficiently, but they can be prone to hallucination. The answer may \"look\" correct (in terms of language and syntax) but is incorrect in terms of factuality and reasoning.\n",
    "\n",
    "Chain-of-Thought prompting is a technique where you instruct the model to output intermediate reasoning steps, and it typically gets better results, especially when combined with few-shot examples. It is worth noting that this technique doesn't completely eliminate hallucinations, and that it tends to cost more to run, due to the increased token count.\n",
    "\n",
    "Models like the Gemini family are trained to be \"chatty\" or \"thoughtful\" and will provide reasoning steps without prompting, so for this simple example you can ask the model to be more direct in the prompt to force a non-reasoning response. Try re-running this step if the model gets lucky and gets the answer correct on the first try."
   ]
  },
  {
   "cell_type": "code",
   "execution_count": 35,
   "id": "011f6a65",
   "metadata": {
    "execution": {
     "iopub.execute_input": "2025-03-30T23:05:32.616817Z",
     "iopub.status.busy": "2025-03-30T23:05:32.616472Z",
     "iopub.status.idle": "2025-03-30T23:05:32.954952Z",
     "shell.execute_reply": "2025-03-30T23:05:32.953757Z"
    },
    "id": "5715555db1c1",
    "papermill": {
     "duration": 0.358322,
     "end_time": "2025-03-30T23:05:32.956649",
     "exception": false,
     "start_time": "2025-03-30T23:05:32.598327",
     "status": "completed"
    },
    "tags": []
   },
   "outputs": [
    {
     "name": "stdout",
     "output_type": "stream",
     "text": [
      "48\n",
      "\n"
     ]
    }
   ],
   "source": [
    "prompt = \"\"\"When I was 4 years old, my partner was 3 times my age. Now, I\n",
    "am 20 years old. How old is my partner? Return the answer directly.\"\"\"\n",
    "\n",
    "response = client.models.generate_content(\n",
    "    model='gemini-2.0-flash',\n",
    "    contents=prompt)\n",
    "\n",
    "print(response.text)"
   ]
  },
  {
   "cell_type": "markdown",
   "id": "a3ec7e01",
   "metadata": {
    "id": "e12b19677bfd",
    "papermill": {
     "duration": 0.017653,
     "end_time": "2025-03-30T23:05:32.992462",
     "exception": false,
     "start_time": "2025-03-30T23:05:32.974809",
     "status": "completed"
    },
    "tags": []
   },
   "source": [
    "Now try the same approach, but indicate to the model that it should \"think step by step\"."
   ]
  },
  {
   "cell_type": "code",
   "execution_count": 36,
   "id": "7adc36e4",
   "metadata": {
    "execution": {
     "iopub.execute_input": "2025-03-30T23:05:33.028659Z",
     "iopub.status.busy": "2025-03-30T23:05:33.028312Z",
     "iopub.status.idle": "2025-03-30T23:05:33.930390Z",
     "shell.execute_reply": "2025-03-30T23:05:33.929247Z"
    },
    "papermill": {
     "duration": 0.921981,
     "end_time": "2025-03-30T23:05:33.932007",
     "exception": false,
     "start_time": "2025-03-30T23:05:33.010026",
     "status": "completed"
    },
    "tags": []
   },
   "outputs": [
    {
     "name": "stdout",
     "output_type": "stream",
     "text": [
      "Here's how to solve the problem step-by-step:\n",
      "\n",
      "1. **Find the age difference:** When you were 4, your partner was 3 times your age, meaning they were 4 * 3 = 12 years old.\n",
      "2. **Calculate the age difference:** The age difference between you and your partner is 12 - 4 = 8 years.\n",
      "3. **Determine the partner's current age:** Since you are now 20 and the age difference remains the same, your partner is 20 + 8 = 28 years old.\n",
      "\n",
      "**Therefore, your partner is 28 years old.**\n",
      "\n"
     ]
    }
   ],
   "source": [
    "prompt = \"\"\"When I was 4 years old, my partner was 3 times my age. \n",
    "Now, I am 20 years old. How old is my partner? \n",
    "Think step by step before giving the final answer.\"\"\"\n",
    "\n",
    "response = client.models.generate_content(\n",
    "    model='gemini-2.0-flash',\n",
    "    contents=prompt)\n",
    "\n",
    "print(response.text)"
   ]
  },
  {
   "cell_type": "code",
   "execution_count": 37,
   "id": "113adf54",
   "metadata": {
    "execution": {
     "iopub.execute_input": "2025-03-30T23:05:33.968330Z",
     "iopub.status.busy": "2025-03-30T23:05:33.967957Z",
     "iopub.status.idle": "2025-03-30T23:05:34.954744Z",
     "shell.execute_reply": "2025-03-30T23:05:34.953753Z"
    },
    "id": "ffd7536a481f",
    "papermill": {
     "duration": 1.007015,
     "end_time": "2025-03-30T23:05:34.956750",
     "exception": false,
     "start_time": "2025-03-30T23:05:33.949735",
     "status": "completed"
    },
    "tags": []
   },
   "outputs": [
    {
     "data": {
      "text/markdown": [
       "Here's how to solve the problem step-by-step:\n",
       "\n",
       "1.  When you were 4, your partner was 3 times your age, meaning they were 4 * 3 = 12 years old.\n",
       "\n",
       "2.  The age difference between you and your partner is 12 - 4 = 8 years.\n",
       "\n",
       "3.  Since the age difference remains constant, your partner is always 8 years older than you.\n",
       "\n",
       "4.  Now that you are 20, your partner is 20 + 8 = 28 years old.\n",
       "\n",
       "So, your partner is 28 years old.\n"
      ],
      "text/plain": [
       "<IPython.core.display.Markdown object>"
      ]
     },
     "execution_count": 37,
     "metadata": {},
     "output_type": "execute_result"
    }
   ],
   "source": [
    "prompt = \"\"\"When I was 4 years old, my partner was 3 times my age. Now,\n",
    "I am 20 years old. How old is my partner? Let's think step by step.\"\"\"\n",
    "\n",
    "response = client.models.generate_content(\n",
    "    model='gemini-2.0-flash',\n",
    "    contents=prompt)\n",
    "\n",
    "Markdown(response.text)"
   ]
  },
  {
   "cell_type": "markdown",
   "id": "c2587bb3",
   "metadata": {
    "id": "oiLgBQJj0V53",
    "papermill": {
     "duration": 0.017189,
     "end_time": "2025-03-30T23:05:34.991869",
     "exception": false,
     "start_time": "2025-03-30T23:05:34.974680",
     "status": "completed"
    },
    "tags": []
   },
   "source": [
    "### ReAct: Reason and act\n",
    "\n",
    "In this example you will run a ReAct prompt directly in the Gemini API and perform the searching steps yourself. As this prompt follows a well-defined structure, there are frameworks available that wrap the prompt into easier-to-use APIs that make tool calls automatically, such as the LangChain example from the \"Prompting\" whitepaper.\n",
    "\n",
    "To try this out with the Wikipedia search engine, check out the [Searching Wikipedia with ReAct](https://github.com/google-gemini/cookbook/blob/main/examples/Search_Wikipedia_using_ReAct.ipynb) cookbook example.\n",
    "\n",
    "\n",
    "> Note: The prompt and in-context examples used here are from [https://github.com/ysymyth/ReAct](https://github.com/ysymyth/ReAct) which is published under an [MIT license](https://opensource.org/licenses/MIT), Copyright (c) 2023 Shunyu Yao.\n",
    "\n",
    "<table align=left>\n",
    "  <td>\n",
    "    <a target=\"_blank\" href=\"https://aistudio.google.com/prompts/18oo63Lwosd-bQ6Ay51uGogB3Wk3H8XMO\"><img src=\"https://ai.google.dev/site-assets/images/marketing/home/icon-ais.png\" style=\"height: 24px\" height=24/> Open in AI Studio</a>\n",
    "  </td>\n",
    "</table>\n"
   ]
  },
  {
   "cell_type": "code",
   "execution_count": 38,
   "id": "4e703486",
   "metadata": {
    "execution": {
     "iopub.execute_input": "2025-03-30T23:05:35.028607Z",
     "iopub.status.busy": "2025-03-30T23:05:35.028258Z",
     "iopub.status.idle": "2025-03-30T23:05:35.033418Z",
     "shell.execute_reply": "2025-03-30T23:05:35.032369Z"
    },
    "id": "cBgyNJ5z0VSs",
    "papermill": {
     "duration": 0.025564,
     "end_time": "2025-03-30T23:05:35.035047",
     "exception": false,
     "start_time": "2025-03-30T23:05:35.009483",
     "status": "completed"
    },
    "tags": []
   },
   "outputs": [],
   "source": [
    "model_instructions = \"\"\"\n",
    "Solve a question answering task with interleaving Thought, Action, Observation steps. Thought can reason about the current situation,\n",
    "Observation is understanding relevant information from an Action's output and Action can be one of three types:\n",
    " (1) <search>entity</search>, which searches the exact entity on Wikipedia and returns the first paragraph if it exists. If not, it\n",
    "     will return some similar entities to search and you can try to search the information from those topics.\n",
    " (2) <lookup>keyword</lookup>, which returns the next sentence containing keyword in the current context. This only does exact matches,\n",
    "     so keep your searches short.\n",
    " (3) <finish>answer</finish>, which returns the answer and finishes the task.\n",
    "\"\"\"\n",
    "\n",
    "example1 = \"\"\"Question\n",
    "Musician and satirist Allie Goertz wrote a song about the \"The Simpsons\" character Milhouse, who Matt Groening named after who?\n",
    "\n",
    "Thought 1\n",
    "The question simplifies to \"The Simpsons\" character Milhouse is named after who. I only need to search Milhouse and find who it is named after.\n",
    "\n",
    "Action 1\n",
    "<search>Milhouse</search>\n",
    "\n",
    "Observation 1\n",
    "Milhouse Mussolini Van Houten is a recurring character in the Fox animated television series The Simpsons voiced by Pamela Hayden and created by Matt Groening.\n",
    "\n",
    "Thought 2\n",
    "The paragraph does not tell who Milhouse is named after, maybe I can look up \"named after\".\n",
    "\n",
    "Action 2\n",
    "<lookup>named after</lookup>\n",
    "\n",
    "Observation 2\n",
    "Milhouse was named after U.S. president Richard Nixon, whose middle name was Milhous.\n",
    "\n",
    "Thought 3\n",
    "Milhouse was named after U.S. president Richard Nixon, so the answer is Richard Nixon.\n",
    "\n",
    "Action 3\n",
    "<finish>Richard Nixon</finish>\n",
    "\"\"\"\n",
    "\n",
    "example2 = \"\"\"Question\n",
    "What is the elevation range for the area that the eastern sector of the Colorado orogeny extends into?\n",
    "\n",
    "Thought 1\n",
    "I need to search Colorado orogeny, find the area that the eastern sector of the Colorado orogeny extends into, then find the elevation range of the area.\n",
    "\n",
    "Action 1\n",
    "<search>Colorado orogeny</search>\n",
    "\n",
    "Observation 1\n",
    "The Colorado orogeny was an episode of mountain building (an orogeny) in Colorado and surrounding areas.\n",
    "\n",
    "Thought 2\n",
    "It does not mention the eastern sector. So I need to look up eastern sector.\n",
    "\n",
    "Action 2\n",
    "<lookup>eastern sector</lookup>\n",
    "\n",
    "Observation 2\n",
    "The eastern sector extends into the High Plains and is called the Central Plains orogeny.\n",
    "\n",
    "Thought 3\n",
    "The eastern sector of Colorado orogeny extends into the High Plains. So I need to search High Plains and find its elevation range.\n",
    "\n",
    "Action 3\n",
    "<search>High Plains</search>\n",
    "\n",
    "Observation 3\n",
    "High Plains refers to one of two distinct land regions\n",
    "\n",
    "Thought 4\n",
    "I need to instead search High Plains (United States).\n",
    "\n",
    "Action 4\n",
    "<search>High Plains (United States)</search>\n",
    "\n",
    "Observation 4\n",
    "The High Plains are a subregion of the Great Plains. From east to west, the High Plains rise in elevation from around 1,800 to 7,000 ft (550 to 2,130m).\n",
    "\n",
    "Thought 5\n",
    "High Plains rise in elevation from around 1,800 to 7,000 ft, so the answer is 1,800 to 7,000 ft.\n",
    "\n",
    "Action 5\n",
    "<finish>1,800 to 7,000 ft</finish>\n",
    "\"\"\"\n",
    "\n",
    "# Come up with more examples yourself, or take a look through https://github.com/ysymyth/ReAct/"
   ]
  },
  {
   "cell_type": "markdown",
   "id": "23b028a6",
   "metadata": {
    "id": "C3wbfstjTgey",
    "papermill": {
     "duration": 0.017103,
     "end_time": "2025-03-30T23:05:35.069953",
     "exception": false,
     "start_time": "2025-03-30T23:05:35.052850",
     "status": "completed"
    },
    "tags": []
   },
   "source": [
    "To capture a single step at a time, while ignoring any hallucinated Observation steps, you will use `stop_sequences` to end the generation process. The steps are `Thought`, `Action`, `Observation`, in that order."
   ]
  },
  {
   "cell_type": "code",
   "execution_count": 39,
   "id": "456181ce",
   "metadata": {
    "execution": {
     "iopub.execute_input": "2025-03-30T23:05:35.106629Z",
     "iopub.status.busy": "2025-03-30T23:05:35.106282Z",
     "iopub.status.idle": "2025-03-30T23:06:38.706041Z",
     "shell.execute_reply": "2025-03-30T23:06:38.704861Z"
    },
    "id": "8mxrXRkRTdXm",
    "papermill": {
     "duration": 63.637629,
     "end_time": "2025-03-30T23:06:38.725367",
     "exception": false,
     "start_time": "2025-03-30T23:05:35.087738",
     "status": "completed"
    },
    "tags": []
   },
   "outputs": [
    {
     "name": "stdout",
     "output_type": "stream",
     "text": [
      "Thought 1\n",
      "I need to find the transformers NLP paper and find the authors listed on it. Then, I need to identify the youngest author among them.\n",
      "\n",
      "Action 1\n",
      "<search>transformers NLP paper</search>\n",
      "\n"
     ]
    }
   ],
   "source": [
    "question = \"\"\"Question\n",
    "Who was the youngest author listed on the transformers NLP paper?\n",
    "\"\"\"\n",
    "\n",
    "# You will perform the Action; so generate up to, but not including, the Observation.\n",
    "react_config = types.GenerateContentConfig(\n",
    "    stop_sequences=[\"\\nObservation\"],\n",
    "    system_instruction=model_instructions + example1 + example2,\n",
    ")\n",
    "\n",
    "# Create a chat that has the model instructions and examples pre-seeded.\n",
    "react_chat = client.chats.create(\n",
    "    model='gemini-2.0-flash',\n",
    "    config=react_config,\n",
    ")\n",
    "\n",
    "resp = react_chat.send_message(question)\n",
    "print(resp.text)"
   ]
  },
  {
   "cell_type": "markdown",
   "id": "62c97e08",
   "metadata": {
    "id": "aW2PIdLbVv3l",
    "papermill": {
     "duration": 0.017622,
     "end_time": "2025-03-30T23:06:38.761258",
     "exception": false,
     "start_time": "2025-03-30T23:06:38.743636",
     "status": "completed"
    },
    "tags": []
   },
   "source": [
    "Now you can perform this research yourself and supply it back to the model."
   ]
  },
  {
   "cell_type": "code",
   "execution_count": 40,
   "id": "6f6612dd",
   "metadata": {
    "execution": {
     "iopub.execute_input": "2025-03-30T23:06:38.799017Z",
     "iopub.status.busy": "2025-03-30T23:06:38.798588Z",
     "iopub.status.idle": "2025-03-30T23:06:39.813966Z",
     "shell.execute_reply": "2025-03-30T23:06:39.812496Z"
    },
    "id": "mLMc0DZaV9g2",
    "papermill": {
     "duration": 1.037405,
     "end_time": "2025-03-30T23:06:39.816582",
     "exception": false,
     "start_time": "2025-03-30T23:06:38.779177",
     "status": "completed"
    },
    "tags": []
   },
   "outputs": [
    {
     "name": "stdout",
     "output_type": "stream",
     "text": [
      "Thought 2\n",
      "The paper is titled \"Attention Is All You Need\" and the authors are Ashish Vaswani, Noam Shazeer, Niki Parmar, Jakob Uszkoreit, Llion Jones, Aidan N. Gomez, Lukasz Kaiser, Illia Polosukhin. I need to find the youngest author among them. To do so, I will search each author's name and find their birth date, and then determine who the youngest is.\n",
      "\n",
      "Action 2\n",
      "<search>Ashish Vaswani</search>\n",
      "\n"
     ]
    }
   ],
   "source": [
    "observation = \"\"\"Observation 1\n",
    "[1706.03762] Attention Is All You Need\n",
    "Ashish Vaswani, Noam Shazeer, Niki Parmar, Jakob Uszkoreit, Llion Jones, Aidan N. Gomez, Lukasz Kaiser, Illia Polosukhin\n",
    "We propose a new simple network architecture, the Transformer, based solely on attention mechanisms, dispensing with recurrence and convolutions entirely.\n",
    "\"\"\"\n",
    "resp = react_chat.send_message(observation)\n",
    "print(resp.text)"
   ]
  },
  {
   "cell_type": "markdown",
   "id": "5112b25e",
   "metadata": {
    "id": "bo0tzf4nX6dA",
    "papermill": {
     "duration": 0.026546,
     "end_time": "2025-03-30T23:06:39.874461",
     "exception": false,
     "start_time": "2025-03-30T23:06:39.847915",
     "status": "completed"
    },
    "tags": []
   },
   "source": [
    "This process repeats until the `<finish>` action is reached. You can continue running this yourself if you like, or try the [Wikipedia example](https://github.com/google-gemini/cookbook/blob/main/examples/Search_Wikipedia_using_ReAct.ipynb) to see a fully automated ReAct system at work."
   ]
  },
  {
   "cell_type": "markdown",
   "id": "f5a8b174",
   "metadata": {
    "papermill": {
     "duration": 0.019128,
     "end_time": "2025-03-30T23:06:39.912387",
     "exception": false,
     "start_time": "2025-03-30T23:06:39.893259",
     "status": "completed"
    },
    "tags": []
   },
   "source": [
    "## Thinking mode\n",
    "\n",
    "The experiemental Gemini Flash 2.0 \"Thinking\" model has been trained to generate the \"thinking process\" the model goes through as part of its response. As a result, the Flash Thinking model is capable of stronger reasoning capabilities in its responses.\n",
    "\n",
    "Using a \"thinking mode\" model can provide you with high-quality responses without needing specialised prompting like the previous approaches. One reason this technique is effective is that you induce the model to generate relevant information (\"brainstorming\", or \"thoughts\") that is then used as part of the context in which the final response is generated.\n",
    "\n",
    "Note that when you use the API, you get the final response from the model, but the thoughts are not captured. To see the intermediate thoughts, try out [the thinking mode model in AI Studio](https://aistudio.google.com/prompts/new_chat?model=gemini-2.0-flash-thinking-exp-01-21).\n",
    "\n",
    "<table align=left>\n",
    "  <td>\n",
    "    <a target=\"_blank\" href=\"https://aistudio.google.com/prompts/1Z991SV7lZZZqioOiqIUPv9a9ix-ws4zk\"><img src=\"https://ai.google.dev/site-assets/images/marketing/home/icon-ais.png\" style=\"height: 24px\" height=24/> Open in AI Studio</a>\n",
    "  </td>\n",
    "</table>"
   ]
  },
  {
   "cell_type": "code",
   "execution_count": 41,
   "id": "239bc10f",
   "metadata": {
    "execution": {
     "iopub.execute_input": "2025-03-30T23:06:39.949528Z",
     "iopub.status.busy": "2025-03-30T23:06:39.949079Z",
     "iopub.status.idle": "2025-03-30T23:06:46.157790Z",
     "shell.execute_reply": "2025-03-30T23:06:46.156885Z"
    },
    "papermill": {
     "duration": 6.22927,
     "end_time": "2025-03-30T23:06:46.159320",
     "exception": false,
     "start_time": "2025-03-30T23:06:39.930050",
     "status": "completed"
    },
    "tags": []
   },
   "outputs": [
    {
     "data": {
      "text/markdown": [
       "The youngest author listed on the \"Attention is All You Need\" paper (which introduced the Transformer architecture) is **Aidan N. Gomez**.\n",
       "\n",
       "He was an undergraduate intern at Google Brain when the paper was written.  The other authors were more senior researchers."
      ],
      "text/plain": [
       "<IPython.core.display.Markdown object>"
      ]
     },
     "execution_count": 41,
     "metadata": {},
     "output_type": "execute_result"
    }
   ],
   "source": [
    "import io\n",
    "from IPython.display import Markdown, clear_output\n",
    "\n",
    "response = client.models.generate_content_stream(\n",
    "    model='gemini-2.0-flash-thinking-exp',\n",
    "    contents='Who was the youngest author listed on the transformers NLP paper?',\n",
    ")\n",
    "\n",
    "buf = io.StringIO()\n",
    "for chunk in response:\n",
    "    buf.write(chunk.text)\n",
    "    # Display the response as it is streamed\n",
    "    print(chunk.text, end='')\n",
    "\n",
    "# And then render the finished response as formatted markdown.\n",
    "clear_output()\n",
    "Markdown(buf.getvalue())"
   ]
  },
  {
   "cell_type": "markdown",
   "id": "45f67c39",
   "metadata": {
    "id": "jPiZ_eIIaVPt",
    "papermill": {
     "duration": 0.018244,
     "end_time": "2025-03-30T23:06:46.195913",
     "exception": false,
     "start_time": "2025-03-30T23:06:46.177669",
     "status": "completed"
    },
    "tags": []
   },
   "source": [
    "## Code prompting"
   ]
  },
  {
   "cell_type": "markdown",
   "id": "140aff68",
   "metadata": {
    "id": "ZinKamwXeR6C",
    "papermill": {
     "duration": 0.017772,
     "end_time": "2025-03-30T23:06:46.231775",
     "exception": false,
     "start_time": "2025-03-30T23:06:46.214003",
     "status": "completed"
    },
    "tags": []
   },
   "source": [
    "### Generating code\n",
    "\n",
    "The Gemini family of models can be used to generate code, configuration and scripts. Generating code can be helpful when learning to code, learning a new language or for rapidly generating a first draft.\n",
    "\n",
    "It's important to be aware that since LLMs can make mistakes, and can repeat training data, it's essential to read and test your code first, and comply with any relevant licenses.\n",
    "\n",
    "<table align=left>\n",
    "  <td>\n",
    "    <a target=\"_blank\" href=\"https://aistudio.google.com/prompts/1YX71JGtzDjXQkgdes8bP6i3oH5lCRKxv\"><img src=\"https://ai.google.dev/site-assets/images/marketing/home/icon-ais.png\" style=\"height: 24px\" height=24/> Open in AI Studio</a>\n",
    "  </td>\n",
    "</table>"
   ]
  },
  {
   "cell_type": "code",
   "execution_count": 42,
   "id": "c00be229",
   "metadata": {
    "execution": {
     "iopub.execute_input": "2025-03-30T23:06:46.269165Z",
     "iopub.status.busy": "2025-03-30T23:06:46.268766Z",
     "iopub.status.idle": "2025-03-30T23:06:46.833263Z",
     "shell.execute_reply": "2025-03-30T23:06:46.832230Z"
    },
    "id": "fOQP9pqmeUO1",
    "papermill": {
     "duration": 0.584922,
     "end_time": "2025-03-30T23:06:46.834839",
     "exception": false,
     "start_time": "2025-03-30T23:06:46.249917",
     "status": "completed"
    },
    "tags": []
   },
   "outputs": [
    {
     "data": {
      "text/markdown": [
       "```python\n",
       "def factorial(n):\n",
       "  \"\"\"Calculates the factorial of a number.\"\"\"\n",
       "  if n == 0:\n",
       "    return 1\n",
       "  else:\n",
       "    return n * factorial(n-1)\n",
       "```"
      ],
      "text/plain": [
       "<IPython.core.display.Markdown object>"
      ]
     },
     "execution_count": 42,
     "metadata": {},
     "output_type": "execute_result"
    }
   ],
   "source": [
    "# The Gemini models love to talk, so it helps to specify they stick to the code if that\n",
    "# is all that you want.\n",
    "code_prompt = \"\"\"\n",
    "Write a Python function to calculate the factorial of a number. No explanation, provide only the code.\n",
    "\"\"\"\n",
    "\n",
    "response = client.models.generate_content(\n",
    "    model='gemini-2.0-flash',\n",
    "    config=types.GenerateContentConfig(\n",
    "        temperature=1,\n",
    "        top_p=1,\n",
    "        max_output_tokens=1024,\n",
    "    ),\n",
    "    contents=code_prompt)\n",
    "\n",
    "Markdown(response.text)"
   ]
  },
  {
   "cell_type": "markdown",
   "id": "d0c14252",
   "metadata": {
    "id": "wlBMWSFhgVRQ",
    "papermill": {
     "duration": 0.017988,
     "end_time": "2025-03-30T23:06:46.871064",
     "exception": false,
     "start_time": "2025-03-30T23:06:46.853076",
     "status": "completed"
    },
    "tags": []
   },
   "source": [
    "### Code execution\n",
    "\n",
    "The Gemini API can automatically run generated code too, and will return the output.\n",
    "\n",
    "<table align=left>\n",
    "  <td>\n",
    "    <a target=\"_blank\" href=\"https://aistudio.google.com/prompts/11veFr_VYEwBWcLkhNLr-maCG0G8sS_7Z\"><img src=\"https://ai.google.dev/site-assets/images/marketing/home/icon-ais.png\" style=\"height: 24px\" height=24/> Open in AI Studio</a>\n",
    "  </td>\n",
    "</table>"
   ]
  },
  {
   "cell_type": "code",
   "execution_count": 43,
   "id": "701676cf",
   "metadata": {
    "execution": {
     "iopub.execute_input": "2025-03-30T23:06:46.908522Z",
     "iopub.status.busy": "2025-03-30T23:06:46.908175Z",
     "iopub.status.idle": "2025-03-30T23:06:48.719612Z",
     "shell.execute_reply": "2025-03-30T23:06:48.718111Z"
    },
    "id": "jT3OfWYfhjRL",
    "papermill": {
     "duration": 1.832325,
     "end_time": "2025-03-30T23:06:48.721352",
     "exception": false,
     "start_time": "2025-03-30T23:06:46.889027",
     "status": "completed"
    },
    "tags": []
   },
   "outputs": [
    {
     "name": "stdout",
     "output_type": "stream",
     "text": [
      "{'text': 'Okay, I can do that. First, I need to generate the first 14 odd '\n",
      "         'prime numbers. Remember that a prime number is a number greater than '\n",
      "         '1 that has no positive divisors other than 1 and itself. The first '\n",
      "         'few prime numbers are 2, 3, 5, 7, 11, and so on. Since the request '\n",
      "         'is for *odd* prime numbers, I will exclude 2.\\n'\n",
      "         '\\n'\n",
      "         'Then, I will calculate the sum of the first 14 odd prime numbers.\\n'\n",
      "         '\\n'}\n",
      "-----\n",
      "{'executable_code': {'code': 'primes = [3, 5, 7, 11, 13, 17, 19, 23, 29, 31, '\n",
      "                             '37, 41, 43, 47]\\n'\n",
      "                             'sum_of_primes = sum(primes)\\n'\n",
      "                             \"print(f'{primes=}')\\n\"\n",
      "                             \"print(f'{sum_of_primes=}')\\n\",\n",
      "                     'language': 'PYTHON'}}\n",
      "-----\n",
      "{'code_execution_result': {'outcome': 'OUTCOME_OK',\n",
      "                           'output': 'primes=[3, 5, 7, 11, 13, 17, 19, 23, 29, '\n",
      "                                     '31, 37, 41, 43, 47]\\n'\n",
      "                                     'sum_of_primes=326\\n'}}\n",
      "-----\n",
      "{'text': 'The first 14 odd prime numbers are 3, 5, 7, 11, 13, 17, 19, 23, 29, '\n",
      "         '31, 37, 41, 43, and 47. Their sum is 326.\\n'}\n",
      "-----\n"
     ]
    }
   ],
   "source": [
    "from pprint import pprint\n",
    "\n",
    "config = types.GenerateContentConfig(\n",
    "    tools=[types.Tool(code_execution=types.ToolCodeExecution())],\n",
    ")\n",
    "\n",
    "code_exec_prompt = \"\"\"\n",
    "Generate the first 14 odd prime numbers, then calculate their sum.\n",
    "\"\"\"\n",
    "\n",
    "response = client.models.generate_content(\n",
    "    model='gemini-2.0-flash',\n",
    "    config=config,\n",
    "    contents=code_exec_prompt)\n",
    "\n",
    "for part in response.candidates[0].content.parts:\n",
    "  pprint(part.to_json_dict())\n",
    "  print(\"-----\")"
   ]
  },
  {
   "cell_type": "markdown",
   "id": "d61ec7b6",
   "metadata": {
    "id": "ZspT1GSkjG6d",
    "papermill": {
     "duration": 0.018938,
     "end_time": "2025-03-30T23:06:48.758817",
     "exception": false,
     "start_time": "2025-03-30T23:06:48.739879",
     "status": "completed"
    },
    "tags": []
   },
   "source": [
    "This response contains multiple parts, including an opening and closing text part that represent regular responses, an `executable_code` part that represents generated code and a `code_execution_result` part that represents the results from running the generated code.\n",
    "\n",
    "You can explore them individually."
   ]
  },
  {
   "cell_type": "code",
   "execution_count": 44,
   "id": "3c9556c2",
   "metadata": {
    "execution": {
     "iopub.execute_input": "2025-03-30T23:06:48.797130Z",
     "iopub.status.busy": "2025-03-30T23:06:48.796783Z",
     "iopub.status.idle": "2025-03-30T23:06:48.808156Z",
     "shell.execute_reply": "2025-03-30T23:06:48.807258Z"
    },
    "papermill": {
     "duration": 0.032506,
     "end_time": "2025-03-30T23:06:48.809883",
     "exception": false,
     "start_time": "2025-03-30T23:06:48.777377",
     "status": "completed"
    },
    "tags": []
   },
   "outputs": [
    {
     "data": {
      "text/markdown": [
       "Okay, I can do that. First, I need to generate the first 14 odd prime numbers. Remember that a prime number is a number greater than 1 that has no positive divisors other than 1 and itself. The first few prime numbers are 2, 3, 5, 7, 11, and so on. Since the request is for *odd* prime numbers, I will exclude 2.\n",
       "\n",
       "Then, I will calculate the sum of the first 14 odd prime numbers.\n",
       "\n"
      ],
      "text/plain": [
       "<IPython.core.display.Markdown object>"
      ]
     },
     "metadata": {},
     "output_type": "display_data"
    },
    {
     "data": {
      "text/markdown": [
       "```python\n",
       "primes = [3, 5, 7, 11, 13, 17, 19, 23, 29, 31, 37, 41, 43, 47]\n",
       "sum_of_primes = sum(primes)\n",
       "print(f'{primes=}')\n",
       "print(f'{sum_of_primes=}')\n",
       "\n",
       "```"
      ],
      "text/plain": [
       "<IPython.core.display.Markdown object>"
      ]
     },
     "metadata": {},
     "output_type": "display_data"
    },
    {
     "data": {
      "text/markdown": [
       "```\n",
       "primes=[3, 5, 7, 11, 13, 17, 19, 23, 29, 31, 37, 41, 43, 47]\n",
       "sum_of_primes=326\n",
       "\n",
       "```"
      ],
      "text/plain": [
       "<IPython.core.display.Markdown object>"
      ]
     },
     "metadata": {},
     "output_type": "display_data"
    },
    {
     "data": {
      "text/markdown": [
       "The first 14 odd prime numbers are 3, 5, 7, 11, 13, 17, 19, 23, 29, 31, 37, 41, 43, and 47. Their sum is 326.\n"
      ],
      "text/plain": [
       "<IPython.core.display.Markdown object>"
      ]
     },
     "metadata": {},
     "output_type": "display_data"
    }
   ],
   "source": [
    "for part in response.candidates[0].content.parts:\n",
    "    if part.text:\n",
    "        display(Markdown(part.text))\n",
    "    elif part.executable_code:\n",
    "        display(Markdown(f'```python\\n{part.executable_code.code}\\n```'))\n",
    "    elif part.code_execution_result:\n",
    "        if part.code_execution_result.outcome != 'OUTCOME_OK':\n",
    "            display(Markdown(f'## Status {part.code_execution_result.outcome}'))\n",
    "\n",
    "        display(Markdown(f'```\\n{part.code_execution_result.output}\\n```'))"
   ]
  },
  {
   "cell_type": "markdown",
   "id": "d074bb82",
   "metadata": {
    "id": "1gUX8QzCj4d5",
    "papermill": {
     "duration": 0.018379,
     "end_time": "2025-03-30T23:06:48.846907",
     "exception": false,
     "start_time": "2025-03-30T23:06:48.828528",
     "status": "completed"
    },
    "tags": []
   },
   "source": [
    "### Explaining code\n",
    "\n",
    "The Gemini family of models can explain code to you too. In this example, you pass a [bash script](https://github.com/magicmonty/bash-git-prompt) and ask some questions.\n",
    "\n",
    "<table align=left>\n",
    "  <td>\n",
    "    <a target=\"_blank\" href=\"https://aistudio.google.com/prompts/1N7LGzWzCYieyOf_7bAG4plrmkpDNmUyb\"><img src=\"https://ai.google.dev/site-assets/images/marketing/home/icon-ais.png\" style=\"height: 24px\" height=24/> Open in AI Studio</a>\n",
    "  </td>\n",
    "</table>"
   ]
  },
  {
   "cell_type": "code",
   "execution_count": 45,
   "id": "1389624e",
   "metadata": {
    "execution": {
     "iopub.execute_input": "2025-03-30T23:06:48.885218Z",
     "iopub.status.busy": "2025-03-30T23:06:48.884808Z",
     "iopub.status.idle": "2025-03-30T23:06:52.376753Z",
     "shell.execute_reply": "2025-03-30T23:06:52.375639Z"
    },
    "id": "7_jPMMoxkIEb",
    "papermill": {
     "duration": 3.513191,
     "end_time": "2025-03-30T23:06:52.378584",
     "exception": false,
     "start_time": "2025-03-30T23:06:48.865393",
     "status": "completed"
    },
    "tags": []
   },
   "outputs": [
    {
     "data": {
      "text/markdown": [
       "This file is a Bash script designed to enhance your command-line prompt with information about the current Git repository. It's often called `bash-git-prompt` or similar.\n",
       "\n",
       "Here's a high-level breakdown:\n",
       "\n",
       "**What it does:**\n",
       "\n",
       "*   **Displays Git Status in your Prompt:**  The primary function is to show you details about the Git repository you're currently in directly within your command prompt.  This includes information like:\n",
       "    *   The current branch.\n",
       "    *   Whether there are uncommitted changes (staged, unstaged, untracked).\n",
       "    *   How far ahead or behind your local branch is compared to the remote.\n",
       "    *   Whether there are conflicts.\n",
       "    *   The exit code of the last command.\n",
       "    *   Optional integration with virtualenv.\n",
       "*   **Customization:** It's highly configurable.  You can:\n",
       "    *   Choose different themes (color schemes) for the prompt.\n",
       "    *   Control what Git information is displayed.\n",
       "    *   Customize the symbols used to represent Git states.\n",
       "    *   Integrate information about virtual environments.\n",
       "*   **Asynchronous Updates:** It attempts to fetch remote branch information in the background (asynchronously) so that your prompt doesn't become slow while waiting for network operations.\n",
       "*   **Cross-Shell Compatibility:** It aims for compatibility with both Bash and Zsh.\n",
       "*   **Handles edge cases gracefully:** Checks for missing dependencies like `find` and offers to disable remote status checking.\n",
       "\n",
       "**Why you would use it:**\n",
       "\n",
       "*   **Increased Awareness:**  By displaying Git status directly in your prompt, you're constantly reminded of the state of your repository.  This helps you avoid accidentally committing incorrect changes, pushing code without pulling, or forgetting to stage files.\n",
       "*   **Improved Workflow:**  A quick glance at your prompt provides valuable information, reducing the need to run `git status` frequently.\n",
       "*   **Enhanced Productivity:**  Knowing your Git status immediately allows you to make informed decisions about your next actions, saving time and reducing errors.\n",
       "*   **Visual Appeal:**  Customizable colors and symbols make your prompt more visually appealing and informative.\n",
       "\n",
       "**In essence, this script makes working with Git repositories from the command line much more efficient and user-friendly by putting the most important Git information right in front of you.**\n"
      ],
      "text/plain": [
       "<IPython.core.display.Markdown object>"
      ]
     },
     "execution_count": 45,
     "metadata": {},
     "output_type": "execute_result"
    }
   ],
   "source": [
    "file_contents = !curl https://raw.githubusercontent.com/magicmonty/bash-git-prompt/refs/heads/master/gitprompt.sh\n",
    "\n",
    "explain_prompt = f\"\"\"\n",
    "Please explain what this file does at a very high level. What is it, and why would I use it?\n",
    "\n",
    "```\n",
    "{file_contents}\n",
    "```\n",
    "\"\"\"\n",
    "\n",
    "response = client.models.generate_content(\n",
    "    model='gemini-2.0-flash',\n",
    "    contents=explain_prompt)\n",
    "\n",
    "Markdown(response.text)"
   ]
  },
  {
   "cell_type": "markdown",
   "id": "bcc4056e",
   "metadata": {
    "id": "2a8266d97ce5",
    "papermill": {
     "duration": 0.019903,
     "end_time": "2025-03-30T23:06:52.417684",
     "exception": false,
     "start_time": "2025-03-30T23:06:52.397781",
     "status": "completed"
    },
    "tags": []
   },
   "source": [
    "## Learn more\n",
    "\n",
    "To learn more about prompting in depth:\n",
    "\n",
    "* Check out the whitepaper issued with today's content,\n",
    "* Try out the apps listed at the top of this notebook ([TextFX](https://textfx.withgoogle.com/), [SQL Talk](https://sql-talk-r5gdynozbq-uc.a.run.app/) and [NotebookLM](https://notebooklm.google/)),\n",
    "* Read the [Introduction to Prompting](https://ai.google.dev/gemini-api/docs/prompting-intro) from the Gemini API docs,\n",
    "* Explore the Gemini API's [prompt gallery](https://ai.google.dev/gemini-api/prompts) and try them out in AI Studio,\n",
    "* Check out the Gemini API cookbook for [inspirational examples](https://github.com/google-gemini/cookbook/blob/main/examples/) and [educational quickstarts](https://github.com/google-gemini/cookbook/blob/main/quickstarts/).\n",
    "\n",
    "Be sure to check out the codelabs on day 3 too, where you will explore some more advanced prompting with code execution.\n",
    "\n",
    "And please share anything exciting you have tried in the Discord!\n",
    "\n",
    "*- [Mark McD](https://linktr.ee/markmcd)*"
   ]
  }
 ],
 "metadata": {
  "colab": {
   "name": "day-1-prompting.ipynb",
   "toc_visible": true
  },
  "kaggle": {
   "accelerator": "none",
   "dataSources": [],
   "isGpuEnabled": false,
   "isInternetEnabled": true,
   "language": "python",
   "sourceType": "notebook"
  },
  "kernelspec": {
   "display_name": "Python 3",
   "language": "python",
   "name": "python3"
  },
  "language_info": {
   "codemirror_mode": {
    "name": "ipython",
    "version": 3
   },
   "file_extension": ".py",
   "mimetype": "text/x-python",
   "name": "python",
   "nbconvert_exporter": "python",
   "pygments_lexer": "ipython3",
   "version": "3.10.12"
  },
  "papermill": {
   "default_parameters": {},
   "duration": 119.697432,
   "end_time": "2025-03-30T23:06:53.156979",
   "environment_variables": {},
   "exception": null,
   "input_path": "__notebook__.ipynb",
   "output_path": "__notebook__.ipynb",
   "parameters": {},
   "start_time": "2025-03-30T23:04:53.459547",
   "version": "2.6.0"
  }
 },
 "nbformat": 4,
 "nbformat_minor": 5
}
